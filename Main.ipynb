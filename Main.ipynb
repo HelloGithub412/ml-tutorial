{
 "cells": [
  {
   "cell_type": "code",
   "execution_count": 1,
   "metadata": {},
   "outputs": [],
   "source": [
    "%load_ext tensorboard"
   ]
  },
  {
   "cell_type": "code",
   "execution_count": 2,
   "metadata": {},
   "outputs": [],
   "source": [
    "import os\n",
    "os.environ[\"KMP_DUPLICATE_LIB_OK\"] = \"TRUE\"\n",
    "# os.environ['TENSORBOARD_BINARY'] = os.environ[\"CONDA_PREFIX\"] + \"/bin/tensorboard\"\n",
    "\n",
    "import sys\n",
    "import json\n",
    "import matplotlib.pyplot as plt\n",
    "import numpy as np\n",
    "\n",
    "import datetime\n",
    "\n",
    "import tensorflow\n",
    "import tensorflow.keras as keras\n",
    "from tensorflow.keras.models import Sequential\n",
    "from tensorflow.keras.layers import Dense, Dropout, Flatten\n",
    "from tensorflow.keras.layers import Conv2D, MaxPooling2D\n",
    "from tensorflow.keras.optimizers import SGD, Adam\n",
    "from tensorflow.keras.utils import plot_model"
   ]
  },
  {
   "cell_type": "code",
   "execution_count": 3,
   "metadata": {},
   "outputs": [],
   "source": [
    "HOME_DIR = os.path.abspath(\".\") + \"/\"\n",
    "TRAIN_DIR = HOME_DIR + 'train_images'\n",
    "VALIDATION_DIR = HOME_DIR + 'validation_images'\n",
    "TEST_DIR = HOME_DIR + 'test_images'\n",
    "TRAIN_LABELS = HOME_DIR + 'train_labels.csv'\n",
    "VALIDATION_LABELS = HOME_DIR + 'validation_labels.csv'\n",
    "TEST_LABELS = HOME_DIR + 'test_labels.csv'\n",
    "EXTENSION = '.png'"
   ]
  },
  {
   "cell_type": "code",
   "execution_count": 4,
   "metadata": {},
   "outputs": [
    {
     "name": "stdout",
     "output_type": "stream",
     "text": [
      "Number of training images: 740\n",
      "x_train shape: (740, 600, 780, 3)\n",
      "Number of training labels equals number of training images: True\n"
     ]
    }
   ],
   "source": [
    "# Load training images and labels\n",
    "os.chdir(TRAIN_DIR)\n",
    "im_files = sorted(os.listdir())\n",
    "images = [plt.imread(f)[:,:,:3] for f in im_files if f.endswith(EXTENSION)]\n",
    "print('Number of training images:', len(images))\n",
    "x_train = np.array(images)\n",
    "print('x_train shape:', x_train.shape)\n",
    "y_train_labels = np.genfromtxt(TRAIN_LABELS, delimiter=',')\n",
    "print('Number of training labels equals number of training images:', len(y_train_labels) == x_train.shape[0])\n",
    "y_train = keras.utils.to_categorical(y_train_labels, num_classes=2)"
   ]
  },
  {
   "cell_type": "code",
   "execution_count": 5,
   "metadata": {},
   "outputs": [
    {
     "data": {
      "text/plain": [
       "<matplotlib.colorbar.Colorbar at 0x82f0badd0>"
      ]
     },
     "execution_count": 5,
     "metadata": {},
     "output_type": "execute_result"
    },
    {
     "data": {
      "image/png": "[encoded data removed]",
      "text/plain": [
       "<Figure size 432x288 with 2 Axes>"
      ]
     },
     "metadata": {
      "needs_background": "light"
     },
     "output_type": "display_data"
    }
   ],
   "source": [
    "plt.imshow(x_train[0, :, :, :])\n",
    "plt.colorbar()"
   ]
  },
  {
   "cell_type": "code",
   "execution_count": 6,
   "metadata": {},
   "outputs": [
    {
     "name": "stdout",
     "output_type": "stream",
     "text": [
      "Number of validation images: 170\n",
      "x_validation shape: (170, 600, 780, 3)\n",
      "Number of validation labels equals number of validation images: True\n"
     ]
    }
   ],
   "source": [
    "# Load validation images and labels\n",
    "os.chdir(VALIDATION_DIR)\n",
    "im_files = sorted(os.listdir())\n",
    "images = [plt.imread(f)[:,:,:3] for f in im_files if f.endswith(EXTENSION)]\n",
    "print('Number of validation images:', len(images))\n",
    "x_validation = np.array(images)\n",
    "print('x_validation shape:', x_validation.shape)\n",
    "y_validation_labels = np.genfromtxt(VALIDATION_LABELS, delimiter=',')\n",
    "print('Number of validation labels equals number of validation images:', len(y_validation_labels) == x_validation.shape[0])\n",
    "y_validation = keras.utils.to_categorical(y_validation_labels, num_classes=2)"
   ]
  },
  {
   "cell_type": "code",
   "execution_count": 7,
   "metadata": {},
   "outputs": [
    {
     "name": "stdout",
     "output_type": "stream",
     "text": [
      "Number of test images: 170\n",
      "x_test shape: (170, 600, 780, 3)\n",
      "Number of test labels equals number of test images: True\n"
     ]
    }
   ],
   "source": [
    "# Load test images and labels\n",
    "os.chdir(TEST_DIR)\n",
    "im_files = sorted(os.listdir())\n",
    "images = [plt.imread(f)[:,:,:3] for f in im_files if f.endswith(EXTENSION)]\n",
    "print('Number of test images:', len(images))\n",
    "x_test = np.array(images)\n",
    "print('x_test shape:', x_test.shape)\n",
    "y_test_labels = np.genfromtxt(TEST_LABELS, delimiter=',')\n",
    "print('Number of test labels equals number of test images:', len(y_test_labels) == x_test.shape[0])\n",
    "y_test = keras.utils.to_categorical(y_test_labels, num_classes=2)"
   ]
  },
  {
   "cell_type": "code",
   "execution_count": 8,
   "metadata": {},
   "outputs": [
    {
     "name": "stdout",
     "output_type": "stream",
     "text": [
      "Model: \"sequential\"\n",
      "_________________________________________________________________\n",
      "Layer (type)                 Output Shape              Param #   \n",
      "=================================================================\n",
      "conv2d (Conv2D)              (None, 299, 389, 32)      896       \n",
      "_________________________________________________________________\n",
      "conv2d_1 (Conv2D)            (None, 149, 194, 32)      9248      \n",
      "_________________________________________________________________\n",
      "max_pooling2d (MaxPooling2D) (None, 74, 97, 32)        0         \n",
      "_________________________________________________________________\n",
      "dropout (Dropout)            (None, 74, 97, 32)        0         \n",
      "_________________________________________________________________\n",
      "conv2d_2 (Conv2D)            (None, 36, 48, 64)        18496     \n",
      "_________________________________________________________________\n",
      "conv2d_3 (Conv2D)            (None, 17, 23, 64)        36928     \n",
      "_________________________________________________________________\n",
      "max_pooling2d_1 (MaxPooling2 (None, 8, 11, 64)         0         \n",
      "_________________________________________________________________\n",
      "dropout_1 (Dropout)          (None, 8, 11, 64)         0         \n",
      "_________________________________________________________________\n",
      "flatten (Flatten)            (None, 5632)              0         \n",
      "_________________________________________________________________\n",
      "dense (Dense)                (None, 64)                360512    \n",
      "_________________________________________________________________\n",
      "dropout_2 (Dropout)          (None, 64)                0         \n",
      "_________________________________________________________________\n",
      "dense_1 (Dense)              (None, 2)                 130       \n",
      "=================================================================\n",
      "Total params: 426,210\n",
      "Trainable params: 426,210\n",
      "Non-trainable params: 0\n",
      "_________________________________________________________________\n"
     ]
    }
   ],
   "source": [
    "# Create the VGG-like model\n",
    "model = Sequential()\n",
    "model.add(Conv2D(32, (3, 3), strides=2, activation='relu', input_shape=(600, 780, 3)))\n",
    "model.add(Conv2D(32, (3, 3), strides=2, activation='relu'))\n",
    "model.add(MaxPooling2D(pool_size=(2, 2)))\n",
    "model.add(Dropout(0.25))\n",
    "model.add(Conv2D(64, (3, 3), strides=2, activation='relu'))\n",
    "model.add(Conv2D(64, (3, 3), strides=2, activation='relu'))\n",
    "model.add(MaxPooling2D(pool_size=(2, 2)))\n",
    "model.add(Dropout(0.25))\n",
    "model.add(Flatten())\n",
    "model.add(Dense(64, activation='relu'))\n",
    "model.add(Dropout(0.5))\n",
    "model.add(Dense(2, activation='softmax')) # two categories\n",
    "model.summary()\n",
    "adam = Adam(lr=0.01, beta_1=0.9, beta_2=0.999, epsilon=1e-8, decay=1e-6, amsgrad=False)\n",
    "model.compile(loss='categorical_crossentropy', optimizer=adam, metrics=['accuracy'])"
   ]
  },
  {
   "cell_type": "code",
   "execution_count": 9,
   "metadata": {},
   "outputs": [],
   "source": [
    "log_dir = HOME_DIR + \"logs/fit/\" + datetime.datetime.now().strftime(\"%Y%m%d-%H%M%S\")\n",
    "tensorboard_callback = tensorflow.keras.callbacks.TensorBoard(log_dir=log_dir, histogram_freq=1)"
   ]
  },
  {
   "cell_type": "code",
   "execution_count": 10,
   "metadata": {},
   "outputs": [
    {
     "name": "stdout",
     "output_type": "stream",
     "text": [
      "Train on 740 samples, validate on 170 samples\n",
      "Epoch 1/10\n",
      "740/740 [==============================] - 43s 59ms/sample - loss: 0.6358 - accuracy: 0.9378 - val_loss: 0.1051 - val_accuracy: 0.9529\n",
      "Epoch 2/10\n",
      "740/740 [==============================] - 51s 69ms/sample - loss: 0.1198 - accuracy: 0.9392 - val_loss: 0.1024 - val_accuracy: 0.9529\n",
      "Epoch 3/10\n",
      "740/740 [==============================] - 51s 69ms/sample - loss: 0.1351 - accuracy: 0.9378 - val_loss: 0.1235 - val_accuracy: 0.9529\n",
      "Epoch 4/10\n",
      "740/740 [==============================] - 51s 68ms/sample - loss: 0.0700 - accuracy: 0.9689 - val_loss: 0.0417 - val_accuracy: 1.0000\n",
      "Epoch 5/10\n",
      "740/740 [==============================] - 51s 69ms/sample - loss: 0.1095 - accuracy: 0.9919 - val_loss: 0.0243 - val_accuracy: 1.0000\n",
      "Epoch 6/10\n",
      "740/740 [==============================] - 52s 70ms/sample - loss: 0.0236 - accuracy: 1.0000 - val_loss: 0.0121 - val_accuracy: 1.0000\n",
      "Epoch 7/10\n",
      "740/740 [==============================] - 51s 69ms/sample - loss: 0.0130 - accuracy: 1.0000 - val_loss: 0.0061 - val_accuracy: 1.0000\n",
      "Epoch 8/10\n",
      "740/740 [==============================] - 42s 56ms/sample - loss: 0.0102 - accuracy: 0.9986 - val_loss: 0.0043 - val_accuracy: 1.0000\n",
      "Epoch 9/10\n",
      "740/740 [==============================] - 51s 69ms/sample - loss: 0.0074 - accuracy: 1.0000 - val_loss: 0.0028 - val_accuracy: 1.0000\n",
      "Epoch 10/10\n",
      "740/740 [==============================] - 51s 69ms/sample - loss: 0.0070 - accuracy: 1.0000 - val_loss: 0.0019 - val_accuracy: 1.0000\n"
     ]
    }
   ],
   "source": [
    "# Learn and evaluate the model\n",
    "history = model.fit(x_train, y_train, batch_size=16, epochs=10, validation_data=(x_validation, y_validation), callbacks=[tensorboard_callback])"
   ]
  },
  {
   "cell_type": "code",
   "execution_count": 15,
   "metadata": {},
   "outputs": [
    {
     "name": "stdout",
     "output_type": "stream",
     "text": [
      "170/1 [============================================================================================================================================================================================================================================================================================================================================================================================================================================================================================================================================================================================================================================================================================================================================================================================================================================================================================================================================================================================================================================================================================================================================================================================================================================================================================================================================================================================================================================================================================================================================================================================================================================================================================================================================================================================================================================================================================================================================================================================================================================================================================================================================================================================================================================================================================================================================================================================================================================================================================================================================================================================================================================================================================================================================================================================================================================================================================================================================================================================================================================================================================================================================================================================================================================================================================================================================================================================================================================================================================================================================================================================================================================================================================================================================================================================================================================================================================================================================================================================================================================================================================================================================================================================================================================================================================================================================================================================================================================================================================================================================================================================================================================================================================================================================================================================================================================================================================================================================================================================================================================================================================================================================================================================================================================================================================================] - 4s 21ms/sample - loss: 0.0023 - accuracy: 1.0000\n",
      "Model Score: [0.004628910051799133, 1.0]\n"
     ]
    }
   ],
   "source": [
    "score = model.evaluate(x_test, y_test, batch_size=10)\n",
    "print('Model Score:', score)"
   ]
  },
  {
   "cell_type": "code",
   "execution_count": 13,
   "metadata": {},
   "outputs": [],
   "source": [
    "# Write the model, weights and history to files\n",
    "os.chdir(HOME_DIR)\n",
    "model_json = model.to_json()\n",
    "with open(\"model.json\", \"w\") as json_file:\n",
    "    json_file.write(model_json)\n",
    "model.save_weights(\"model.h5\") # serialize weights to HDF5"
   ]
  },
  {
   "cell_type": "code",
   "execution_count": 11,
   "metadata": {
    "scrolled": true
   },
   "outputs": [
    {
     "data": {
      "text/plain": [
       "ERROR: Could not find `tensorboard`. Please ensure that your PATH\n",
       "contains an executable `tensorboard` program, or explicitly specify\n",
       "the path to a TensorBoard binary by setting the `TENSORBOARD_BINARY`\n",
       "environment variable."
      ]
     },
     "metadata": {},
     "output_type": "display_data"
    }
   ],
   "source": [
    "%tensorboard --logdir {log_dir}"
   ]
  }
 ],
 "metadata": {
  "kernelspec": {
   "display_name": "炼丹",
   "language": "python",
   "name": "ml"
  },
  "language_info": {
   "codemirror_mode": {
    "name": "ipython",
    "version": 3
   },
   "file_extension": ".py",
   "mimetype": "text/x-python",
   "name": "python",
   "nbconvert_exporter": "python",
   "pygments_lexer": "ipython3",
   "version": "3.7.5"
  }
 },
 "nbformat": 4,
 "nbformat_minor": 4
}
