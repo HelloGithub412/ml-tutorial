{
 "cells": [
  {
   "cell_type": "code",
   "execution_count": 1,
   "metadata": {},
   "outputs": [],
   "source": [
    "# Some environmental preparation\n",
    "from pathlib import Path\n",
    "import os\n",
    "import sys\n",
    "os.environ[\"KMP_DUPLICATE_LIB_OK\"] = \"TRUE\"\n",
    "os.environ['TENSORBOARD_BINARY'] = str(Path(sys.executable).parent / \"tensorboard\")\n",
    "try:\n",
    "    import util\n",
    "except ImportError:\n",
    "    # Modify this according to your local env\n",
    "    _src_root = Path.home() / \"imageqc-master\"\n",
    "    sys.path.append(str(_src_root))\n",
    "    import util\n"
   ]
  },
  {
   "cell_type": "code",
   "execution_count": 2,
   "metadata": {},
   "outputs": [],
   "source": [
    "# System libraries\n",
    "import matplotlib.pyplot as plt\n",
    "import numpy; np = numpy  # Personal preference.\n",
    "import datetime"
   ]
  },
  {
   "cell_type": "markdown",
   "metadata": {},
   "source": [
    "### Autokeras is a library for automated machine learning (AutoML).\n",
    "We may consider AutoML is a ML task for ML, i.e. using ML algorithm to tune parameteres for ML models\n",
    "Autokeras uses gradient boosting (lightgbm) to search out Neural Network architecture."
   ]
  },
  {
   "cell_type": "markdown",
   "metadata": {},
   "source": [
    "If `lightgbm` is installed via `pip` on MacOS system, please ensure `gcc@7` are installed via `homebrew` as\n",
    "\n",
    "\\$ brew install gcc@7\n",
    "\n",
    "otherwise, autokeras will fail."
   ]
  },
  {
   "cell_type": "code",
   "execution_count": 3,
   "metadata": {},
   "outputs": [],
   "source": [
    "# ALL IN ONE\n",
    "import autokeras as ak"
   ]
  },
  {
   "cell_type": "code",
   "execution_count": 4,
   "metadata": {},
   "outputs": [
    {
     "name": "stdout",
     "output_type": "stream",
     "text": [
      "Reuse cached array train_cache.npz\n",
      "Reuse cached array validation_cache.npz\n",
      "Reuse cached array test_cache.npz\n"
     ]
    }
   ],
   "source": [
    "# Old stories\n",
    "util.inject_config()\n",
    "x_train, y_train = util.read_image(\"train\", EXTENSION, onehot=False)\n",
    "x_validation, y_validation = util.read_image(\"validation\", EXTENSION, onehot=False)\n",
    "x_test, y_test = util.read_image(\"test\", EXTENSION, onehot=False)"
   ]
  },
  {
   "cell_type": "markdown",
   "metadata": {},
   "source": [
    "Usually, it would be enough just do this\n",
    "```python\n",
    "clf = ak.ImageClassifier(seed=1)\n",
    "clf.fit(x_train, y_train, validation_data=(x_validation, y_validation))\n",
    "```"
   ]
  },
  {
   "cell_type": "code",
   "execution_count": 5,
   "metadata": {},
   "outputs": [
    {
     "name": "stdout",
     "output_type": "stream",
     "text": [
      "Epoch 1/10\n",
      "47/47 [==============================] 0.6622 - accuracy: 0.93 - 129s 64s/step - loss: 0.5092 - accuracy: 0.937 - 178s 59s/step - loss: 0.3634 - accuracy: 0.958 - 224s 56s/step - loss: 0.2756 - accuracy: 0.968 - 268s 54s/step - loss: 0.2213 - accuracy: 0.975 - 312s 52s/step - loss: 0.1847 - accuracy: 0.979 - 356s 51s/step - loss: 0.1584 - accuracy: 0.982 - 402s 50s/step - loss: 0.1386 - accuracy: 0.984 - 456s 51s/step - loss: 0.1232 - accuracy: 0.986 - 502s 50s/step - loss: 0.1109 - accuracy: 0.987 - 545s 50s/step - loss: 0.1008 - accuracy: 0.988 - 596s 50s/step - loss: 0.0924 - accuracy: 0.989 - 642s 49s/step - loss: 0.0853 - accuracy: 0.990 - 685s 49s/step - loss: 0.0792 - accuracy: 0.991 - 730s 49s/step - loss: 0.0739 - accuracy: 0.991 - 773s 48s/step - loss: 0.0693 - accuracy: 0.992 - 816s 48s/step - loss: 0.0652 - accuracy: 0.992 - 859s 48s/step - loss: 0.0616 - accuracy: 0.993 - 902s 47s/step - loss: 0.0584 - accuracy: 0.993 - 947s 47s/step - loss: 0.0555 - accuracy: 0.993 - 989s 47s/step - loss: 0.0528 - accuracy: 0.994 - 1031s 47s/step - loss: 0.0504 - accuracy: 0.99 - 1075s 47s/step - loss: 0.0482 - accuracy: 0.99 - 1119s 47s/step - loss: 0.0462 - accuracy: 0.99 - 1161s 46s/step - loss: 0.0444 - accuracy: 0.99 - 1204s 46s/step - loss: 0.0427 - accuracy: 0.99 - 1247s 46s/step - loss: 0.0411 - accuracy: 0.99 - 1290s 46s/step - loss: 0.0396 - accuracy: 0.99 - 1335s 46s/step - loss: 0.0382 - accuracy: 0.99 - 1377s 46s/step - loss: 0.0370 - accuracy: 0.99 - 1420s 46s/step - loss: 0.0358 - accuracy: 0.99 - 1463s 46s/step - loss: 0.0347 - accuracy: 0.99 - 1506s 46s/step - loss: 0.0336 - accuracy: 0.99 - 1551s 46s/step - loss: 0.0326 - accuracy: 0.99 - 1598s 46s/step - loss: 0.1806 - accuracy: 0.98 - 1641s 46s/step - loss: 0.5446 - accuracy: 0.96 - 1685s 46s/step - loss: 0.7703 - accuracy: 0.93 - 1727s 45s/step - loss: 0.7779 - accuracy: 0.92 - 1773s 45s/step - loss: 0.7671 - accuracy: 0.92 - 1815s 45s/step - loss: 0.7529 - accuracy: 0.92 - 1858s 45s/step - loss: 0.7377 - accuracy: 0.92 - 1900s 45s/step - loss: 0.7276 - accuracy: 0.93 - 1944s 45s/step - loss: 0.7179 - accuracy: 0.93 - 1987s 45s/step - loss: 0.7062 - accuracy: 0.93 - 2030s 45s/step - loss: 0.6957 - accuracy: 0.93 - 2073s 45s/step - loss: 0.6859 - accuracy: 0.93 - 2084s 44s/step - loss: 0.6764 - accuracy: 0.93 - 2215s 47s/step - loss: 0.6764 - accuracy: 0.9365 - val_loss: 0.0000e+00 - val_accuracy: 0.0000e+00\n",
      "Epoch 2/10\n",
      "28/47 [================>.............] - ETA: 42:26 - loss: 0.1313 - accuracy: 1.000 - ETA: 37:19 - loss: 0.1314 - accuracy: 1.000 - ETA: 36:05 - loss: 0.1269 - accuracy: 1.000 - ETA: 34:07 - loss: 0.1182 - accuracy: 1.000 - ETA: 34:03 - loss: 0.1095 - accuracy: 1.000 - ETA: 32:31 - loss: 0.1005 - accuracy: 1.000 - ETA: 31:40 - loss: 0.0922 - accuracy: 1.000 - ETA: 30:39 - loss: 0.0847 - accuracy: 1.000 - ETA: 29:39 - loss: 0.0781 - accuracy: 1.000 - ETA: 28:43 - loss: 0.0722 - accuracy: 1.000 - ETA: 27:45 - loss: 0.0671 - accuracy: 1.000 - ETA: 27:03 - loss: 0.0624 - accuracy: 1.000 - ETA: 26:12 - loss: 0.0583 - accuracy: 1.000 - ETA: 25:28 - loss: 0.0547 - accuracy: 1.000 - ETA: 24:37 - loss: 0.0515 - accuracy: 1.000 - ETA: 23:54 - loss: 0.0486 - accuracy: 1.000 - ETA: 23:14 - loss: 0.0460 - accuracy: 1.000 - ETA: 22:27 - loss: 0.0437 - accuracy: 1.000 - ETA: 21:36 - loss: 0.0416 - accuracy: 1.000 - ETA: 20:47 - loss: 0.0396 - accuracy: 1.000 - ETA: 19:58 - loss: 0.0379 - accuracy: 1.000 - ETA: 19:10 - loss: 0.0363 - accuracy: 1.000 - ETA: 18:33 - loss: 0.0348 - accuracy: 1.000 - ETA: 17:45 - loss: 0.0334 - accuracy: 1.000 - ETA: 16:56 - loss: 0.0322 - accuracy: 1.000 - ETA: 16:09 - loss: 0.0310 - accuracy: 1.000 - ETA: 15:23 - loss: 0.0299 - accuracy: 1.000 - ETA: 14:37 - loss: 0.0289 - accuracy: 1.0000"
     ]
    }
   ],
   "source": [
    "# Train a model!\n",
    "clf = ak.ImageClassifier()\n",
    "clf.fit(x_train, y_train, \n",
    "        validation_data=(x_validation, y_validation), \n",
    "        batch_size=16, epochs=10)"
   ]
  },
  {
   "cell_type": "code",
   "execution_count": 6,
   "metadata": {},
   "outputs": [
    {
     "name": "stdout",
     "output_type": "stream",
     "text": [
      "170/1 [============================================================================================================================================================================================================================================================================================================================================================================================================================================================================================================================================================================================================================================================================================================================================================================================================================================================================================================================================================================================================================================================================================================================================================================================================================================================================================================================================================================================================================================================================================================================================================================================================================================================================================================================================================================================================================================================================================================================================================================================================================================================================================================================================================================================================================================================================================================================================================================================================================================================================================================================================================================================================================================================================================================================================================================================================================================================================================================================================================================================================================================================================================================================================================================================================================================================================================================================================================================================================================================================================================================================================================================================================================================================================================================================================================================================================================================================================================================================================================================================================================================================================================================================================================================================================================================================================================================================================================================================================================================================================================================================================================================================================================================================================================================================================================================================================================================================================================================================================================================================================================================================================================================================================================================================================================================================================================================] - 4s 26ms/sample - loss: 0.0084 - accuracy: 1.0000\n",
      "Model Score: [0.016807178364080542, 1.0]\n"
     ]
    }
   ],
   "source": [
    "score = clf.evaluate(x_test, y_test)\n",
    "print('Model Score:', score)"
   ]
  },
  {
   "cell_type": "code",
   "execution_count": 13,
   "metadata": {},
   "outputs": [],
   "source": [
    "# Write the model, weights and history to files\n",
    "os.chdir(HOME_DIR)\n",
    "model_json = model.to_json()\n",
    "with open(\"model.json\", \"w\") as json_file:\n",
    "    json_file.write(model_json)\n",
    "model.save_weights(\"model.h5\") # serialize weights to HDF5"
   ]
  },
  {
   "cell_type": "code",
   "execution_count": 14,
   "metadata": {},
   "outputs": [
    {
     "data": {
      "text/html": [
       "\n",
       "      <iframe id=\"tensorboard-frame-148c7ec59d5036ae\" width=\"100%\" height=\"800\" frameborder=\"0\">\n",
       "      </iframe>\n",
       "      <script>\n",
       "        (function() {\n",
       "          const frame = document.getElementById(\"tensorboard-frame-148c7ec59d5036ae\");\n",
       "          const url = new URL(\"/\", window.location);\n",
       "          url.port = 6007;\n",
       "          frame.src = url;\n",
       "        })();\n",
       "      </script>\n",
       "  "
      ],
      "text/plain": [
       "<IPython.core.display.HTML object>"
      ]
     },
     "metadata": {},
     "output_type": "display_data"
    }
   ],
   "source": [
    "%tensorboard --logdir {log_dir}"
   ]
  }
 ],
 "metadata": {
  "kernelspec": {
   "display_name": "Python 3.6.9 64-bit ('ml': conda)",
   "language": "python",
   "name": "python36964bitmlcondadbcac5b3fdef44c58504110c17423db0"
  },
  "language_info": {
   "codemirror_mode": {
    "name": "ipython",
    "version": 3
   },
   "file_extension": ".py",
   "mimetype": "text/x-python",
   "name": "python",
   "nbconvert_exporter": "python",
   "pygments_lexer": "ipython3",
   "version": "3.6.9"
  },
  "pycharm": {
   "stem_cell": {
    "cell_type": "raw",
    "metadata": {
     "collapsed": false
    },
    "source": []
   }
  }
 },
 "nbformat": 4,
 "nbformat_minor": 4
}
