{
 "cells": [
  {
   "cell_type": "markdown",
   "metadata": {},
   "source": [
    "**Tensorboard**[https://www.tensorflow.org/tensorboard] is a visualization and tooling for Tensorflow."
   ]
  },
  {
   "cell_type": "markdown",
   "metadata": {},
   "source": [
    "Tensorboard usually lives in the same directory of Python binary.\n",
    "\n",
    "`KMP_DUPLICATE_LIB_OK` is sometimes needed when you have mixed OpenMP lib (e.g. MKL and libgomp)"
   ]
  },
  {
   "cell_type": "code",
   "execution_count": 1,
   "metadata": {},
   "outputs": [],
   "source": [
    "%load_ext tensorboard"
   ]
  },
  {
   "cell_type": "code",
   "execution_count": 2,
   "metadata": {},
   "outputs": [],
   "source": [
    "# Some environmental preparation\n",
    "from pathlib import Path\n",
    "import os\n",
    "import sys\n",
    "os.environ[\"KMP_DUPLICATE_LIB_OK\"] = \"TRUE\"\n",
    "os.environ['TENSORBOARD_BINARY'] = str(Path(sys.executable).parent / \"tensorboard\")\n",
    "try:\n",
    "    import util\n",
    "except ImportError:\n",
    "    # Modify this according to your local env\n",
    "    _src_root = Path.home() / \"imageqc-master\"\n",
    "    sys.path.append(str(_src_root))\n",
    "    import util\n"
   ]
  },
  {
   "cell_type": "code",
   "execution_count": 3,
   "metadata": {},
   "outputs": [],
   "source": [
    "# System libraries\n",
    "import matplotlib.pyplot as plt\n",
    "import numpy; np = numpy  # Personal preference.\n",
    "import datetime"
   ]
  },
  {
   "cell_type": "code",
   "execution_count": 4,
   "metadata": {},
   "outputs": [],
   "source": [
    "# ML libraries\n",
    "import tensorflow\n",
    "import tensorflow.keras as keras\n",
    "from tensorflow.keras.models import Sequential\n",
    "from tensorflow.keras.layers import Dense, Dropout, Flatten\n",
    "from tensorflow.keras.layers import Conv2D, MaxPooling2D\n",
    "from tensorflow.keras.optimizers import SGD, Adam\n",
    "\n",
    "# No surprise settings\n",
    "tensorflow.random.set_seed(1)\n",
    "\n",
    "# Graphviz is needed to plot model architecture\n",
    "# from tensorflow.keras.utils import plot_model"
   ]
  },
  {
   "cell_type": "code",
   "execution_count": 5,
   "metadata": {},
   "outputs": [
    {
     "name": "stdout",
     "output_type": "stream",
     "text": [
      "Project directory is /Users/jytang/imageqc-master\n",
      "Training set is in /Users/jytang/imageqc-master/train_images\n",
      "Validation(dev) set is in /Users/jytang/imageqc-master/validation_images\n",
      "Evaluation(test) set is in /Users/jytang/imageqc-master/test_images\n",
      "Input image format is .png\n"
     ]
    }
   ],
   "source": [
    "# Initialize global variables\n",
    "util.inject_config()\n",
    "print(f\"Project directory is {HOME_DIR}\") \n",
    "print(f\"Training set is in {TRAIN_DIR}\") \n",
    "print(f\"Validation(dev) set is in {VALIDATION_DIR}\")\n",
    "print(f\"Evaluation(test) set is in {TEST_DIR}\") \n",
    "print(f\"Input image format is {EXTENSION}\")"
   ]
  },
  {
   "cell_type": "markdown",
   "metadata": {
    "pycharm": {
     "is_executing": false,
     "name": "#%% md\n"
    }
   },
   "source": [
    "### Load training set with their labels"
   ]
  },
  {
   "cell_type": "code",
   "execution_count": 6,
   "metadata": {},
   "outputs": [
    {
     "name": "stdout",
     "output_type": "stream",
     "text": [
      "Reuse cached array train_cache.npz\n"
     ]
    },
    {
     "data": {
      "text/plain": [
       "<matplotlib.image.AxesImage at 0x23cf24e80>"
      ]
     },
     "execution_count": 6,
     "metadata": {},
     "output_type": "execute_result"
    },
    {
     "data": {
      "image/png": "[encoded data removed]",
      "text/plain": [
       "<Figure size 432x288 with 1 Axes>"
      ]
     },
     "metadata": {
      "needs_background": "light"
     },
     "output_type": "display_data"
    }
   ],
   "source": [
    "x_train, y_train = util.read_image(\"train\", EXTENSION, onehot=True)\n",
    "plt.imshow(x_train[0, :, :, :])"
   ]
  },
  {
   "cell_type": "markdown",
   "metadata": {
    "pycharm": {
     "is_executing": false,
     "name": "#%% md\n"
    }
   },
   "source": [
    "### Load dev set (validation images) and labels"
   ]
  },
  {
   "cell_type": "code",
   "execution_count": 7,
   "metadata": {},
   "outputs": [
    {
     "name": "stdout",
     "output_type": "stream",
     "text": [
      "Reuse cached array validation_cache.npz\n"
     ]
    }
   ],
   "source": [
    "x_validation, y_validation = util.read_image(\"validation\", EXTENSION, onehot=True)"
   ]
  },
  {
   "cell_type": "markdown",
   "metadata": {
    "pycharm": {
     "is_executing": false,
     "name": "#%% md\n"
    }
   },
   "source": [
    "### Load test set (evaluation images) and labels"
   ]
  },
  {
   "cell_type": "code",
   "execution_count": 8,
   "metadata": {},
   "outputs": [
    {
     "name": "stdout",
     "output_type": "stream",
     "text": [
      "Reuse cached array test_cache.npz\n"
     ]
    }
   ],
   "source": [
    "x_test, y_test = util.read_image(\"test\", EXTENSION, onehot=True)"
   ]
  },
  {
   "cell_type": "markdown",
   "metadata": {
    "pycharm": {
     "is_executing": false,
     "name": "#%% md\n"
    }
   },
   "source": [
    "### Create the VGG-like model, using Keras style"
   ]
  },
  {
   "cell_type": "code",
   "execution_count": 9,
   "metadata": {},
   "outputs": [
    {
     "name": "stdout",
     "output_type": "stream",
     "text": [
      "Model: \"sequential\"\n",
      "_________________________________________________________________\n",
      "Layer (type)                 Output Shape              Param #   \n",
      "=================================================================\n",
      "conv2d (Conv2D)              (None, 299, 389, 32)      896       \n",
      "_________________________________________________________________\n",
      "conv2d_1 (Conv2D)            (None, 149, 194, 32)      9248      \n",
      "_________________________________________________________________\n",
      "max_pooling2d (MaxPooling2D) (None, 74, 97, 32)        0         \n",
      "_________________________________________________________________\n",
      "dropout (Dropout)            (None, 74, 97, 32)        0         \n",
      "_________________________________________________________________\n",
      "conv2d_2 (Conv2D)            (None, 36, 48, 64)        18496     \n",
      "_________________________________________________________________\n",
      "conv2d_3 (Conv2D)            (None, 17, 23, 64)        36928     \n",
      "_________________________________________________________________\n",
      "max_pooling2d_1 (MaxPooling2 (None, 8, 11, 64)         0         \n",
      "_________________________________________________________________\n",
      "dropout_1 (Dropout)          (None, 8, 11, 64)         0         \n",
      "_________________________________________________________________\n",
      "flatten (Flatten)            (None, 5632)              0         \n",
      "_________________________________________________________________\n",
      "dense (Dense)                (None, 64)                360512    \n",
      "_________________________________________________________________\n",
      "dropout_2 (Dropout)          (None, 64)                0         \n",
      "_________________________________________________________________\n",
      "dense_1 (Dense)              (None, 2)                 130       \n",
      "=================================================================\n",
      "Total params: 426,210\n",
      "Trainable params: 426,210\n",
      "Non-trainable params: 0\n",
      "_________________________________________________________________\n"
     ]
    }
   ],
   "source": [
    "model = Sequential()\n",
    "model.add(Conv2D(32, (3, 3), strides=2, activation='relu', input_shape=(600, 780, 3)))\n",
    "model.add(Conv2D(32, (3, 3), strides=2, activation='relu'))\n",
    "model.add(MaxPooling2D(pool_size=(2, 2)))\n",
    "model.add(Dropout(0.25))\n",
    "model.add(Conv2D(64, (3, 3), strides=2, activation='relu'))\n",
    "model.add(Conv2D(64, (3, 3), strides=2, activation='relu'))\n",
    "model.add(MaxPooling2D(pool_size=(2, 2)))\n",
    "model.add(Dropout(0.25))\n",
    "model.add(Flatten())\n",
    "model.add(Dense(64, activation='relu'))\n",
    "model.add(Dropout(0.5))\n",
    "model.add(Dense(2, activation='softmax')) # two categories\n",
    "model.summary()\n",
    "adam = Adam(lr=0.01, beta_1=0.9, beta_2=0.999, epsilon=1e-8, decay=1e-6, amsgrad=False)\n",
    "model.compile(loss='categorical_crossentropy', optimizer=adam, metrics=['accuracy'])"
   ]
  },
  {
   "cell_type": "markdown",
   "metadata": {},
   "source": [
    "### Set up tensorboard to read training logs"
   ]
  },
  {
   "cell_type": "code",
   "execution_count": 10,
   "metadata": {},
   "outputs": [],
   "source": [
    "log_dir = HOME_DIR / \"logs\" / \"fit\" / datetime.datetime.now().strftime(\"%Y%m%d-%H%M%S\")\n",
    "tensorboard_callback = tensorflow.keras.callbacks.TensorBoard(log_dir=str(log_dir), histogram_freq=1)"
   ]
  },
  {
   "cell_type": "markdown",
   "metadata": {},
   "source": [
    "### Training"
   ]
  },
  {
   "cell_type": "code",
   "execution_count": 11,
   "metadata": {},
   "outputs": [
    {
     "name": "stdout",
     "output_type": "stream",
     "text": [
      "Train on 740 samples, validate on 170 samples\n",
      "Epoch 1/10\n",
      "740/740 [==============================] - 55s 74ms/sample - loss: 0.8375 - accuracy: 0.9311 - val_loss: 0.0986 - val_accuracy: 0.9529\n",
      "Epoch 2/10\n",
      "740/740 [==============================] - 51s 69ms/sample - loss: 0.1653 - accuracy: 0.9392 - val_loss: 0.1094 - val_accuracy: 0.9529\n",
      "Epoch 3/10\n",
      "740/740 [==============================] - 52s 70ms/sample - loss: 0.0758 - accuracy: 0.9514 - val_loss: 0.0393 - val_accuracy: 0.9882\n",
      "Epoch 4/10\n",
      "740/740 [==============================] - 52s 70ms/sample - loss: 0.0976 - accuracy: 0.9689 - val_loss: 0.0519 - val_accuracy: 0.9529\n",
      "Epoch 5/10\n",
      "740/740 [==============================] - 52s 70ms/sample - loss: 0.1469 - accuracy: 0.9784 - val_loss: 0.0277 - val_accuracy: 1.0000\n",
      "Epoch 6/10\n",
      "740/740 [==============================] - 51s 70ms/sample - loss: 0.0295 - accuracy: 0.9919 - val_loss: 0.0149 - val_accuracy: 1.0000\n",
      "Epoch 7/10\n",
      "740/740 [==============================] - 51s 69ms/sample - loss: 0.0159 - accuracy: 1.0000 - val_loss: 0.0055 - val_accuracy: 1.0000\n",
      "Epoch 8/10\n",
      "740/740 [==============================] - 52s 70ms/sample - loss: 0.0084 - accuracy: 1.0000 - val_loss: 1.9881e-05 - val_accuracy: 1.0000\n",
      "Epoch 9/10\n",
      "740/740 [==============================] - 51s 70ms/sample - loss: 0.0723 - accuracy: 0.9959 - val_loss: 0.0112 - val_accuracy: 1.0000\n",
      "Epoch 10/10\n",
      "740/740 [==============================] - 52s 70ms/sample - loss: 0.0151 - accuracy: 0.9986 - val_loss: 0.0059 - val_accuracy: 1.0000\n"
     ]
    }
   ],
   "source": [
    "history = model.fit(x_train, y_train, batch_size=16, epochs=10, validation_data=(x_validation, y_validation), callbacks=[tensorboard_callback])"
   ]
  },
  {
   "cell_type": "markdown",
   "metadata": {},
   "source": [
    "### Evaluation"
   ]
  },
  {
   "cell_type": "code",
   "execution_count": 12,
   "metadata": {},
   "outputs": [
    {
     "name": "stdout",
     "output_type": "stream",
     "text": [
      "170/1 [============================================================================================================================================================================================================================================================================================================================================================================================================================================================================================================================================================================================================================================================================================================================================================================================================================================================================================================================================================================================================================================================================================================================================================================================================================================================================================================================================================================================================================================================================================================================================================================================================================================================================================================================================================================================================================================================================================================================================================================================================================================================================================================================================================================================================================================================================================================================================================================================================================================================================================================================================================================================================================================================================================================================================================================================================================================================================================================================================================================================================================================================================================================================================================================================================================================================================================================================================================================================================================================================================================================================================================================================================================================================================================================================================================================================================================================================================================================================================================================================================================================================================================================================================================================================================================================================================================================================================================================================================================================================================================================================================================================================================================================================================================================================================================================================================================================================================================================================================================================================================================================================================================================================================================================================================================================================================================================] - 4s 26ms/sample - loss: 0.0084 - accuracy: 1.0000\n",
      "Model Score: [0.016807178364080542, 1.0]\n"
     ]
    }
   ],
   "source": [
    "score = model.evaluate(x_test, y_test, batch_size=10)\n",
    "print('Model Score:', score)"
   ]
  },
  {
   "cell_type": "code",
   "execution_count": 13,
   "metadata": {},
   "outputs": [],
   "source": [
    "# Write the model, weights and history to files\n",
    "os.chdir(HOME_DIR)\n",
    "model_json = model.to_json()\n",
    "with open(\"model.json\", \"w\") as json_file:\n",
    "    json_file.write(model_json)\n",
    "model.save_weights(\"model.h5\") # serialize weights to HDF5"
   ]
  },
  {
   "cell_type": "code",
   "execution_count": 14,
   "metadata": {},
   "outputs": [
    {
     "data": {
      "text/html": [
       "\n",
       "      <iframe id=\"tensorboard-frame-148c7ec59d5036ae\" width=\"100%\" height=\"800\" frameborder=\"0\">\n",
       "      </iframe>\n",
       "      <script>\n",
       "        (function() {\n",
       "          const frame = document.getElementById(\"tensorboard-frame-148c7ec59d5036ae\");\n",
       "          const url = new URL(\"/\", window.location);\n",
       "          url.port = 6007;\n",
       "          frame.src = url;\n",
       "        })();\n",
       "      </script>\n",
       "  "
      ],
      "text/plain": [
       "<IPython.core.display.HTML object>"
      ]
     },
     "metadata": {},
     "output_type": "display_data"
    }
   ],
   "source": [
    "%tensorboard --logdir {log_dir}"
   ]
  }
 ],
 "metadata": {
  "kernelspec": {
   "display_name": "Python 3.6.9 64-bit ('ml': conda)",
   "language": "python",
   "name": "python36964bitmlcondadbcac5b3fdef44c58504110c17423db0"
  },
  "language_info": {
   "codemirror_mode": {
    "name": "ipython",
    "version": 3
   },
   "file_extension": ".py",
   "mimetype": "text/x-python",
   "name": "python",
   "nbconvert_exporter": "python",
   "pygments_lexer": "ipython3",
   "version": "3.6.9"
  },
  "pycharm": {
   "stem_cell": {
    "cell_type": "raw",
    "metadata": {
     "collapsed": false
    },
    "source": []
   }
  }
 },
 "nbformat": 4,
 "nbformat_minor": 4
}
