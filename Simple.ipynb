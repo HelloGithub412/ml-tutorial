{
 "cells": [
  {
   "cell_type": "markdown",
   "metadata": {},
   "source": [
    "# Machine learning tutorial: Part 1\n",
    "\n",
    "### **CREDIT My greatest colleague: Joe Meli**\n",
    "\n",
    "This purpose of this tutorial is to give an idea how we can build a model to identify \"bad\" plots in different products, in other words, a _supervised_ machine learning task to find out\n",
    "\n",
    "_For the sake of simplicity in this tutorial, we say an image is \"bad\" because it is likely \"blank\"_\n",
    "\n",
    "We will take a few steps towards building \"simpler\" and \"simpler\" models.\n",
    "\n",
    "### This tutorial IS about:\n",
    "\n",
    "1. A basic practice to build a machine learning project\n",
    "2. How to train models\n",
    "3. AutoML\n",
    "\n",
    "### This tutorial IS NOT about:\n",
    "\n",
    "1. Theory and math\n",
    "2. Python tutorial\n",
    "3. Tune hyperparameter\n"
   ]
  },
  {
   "cell_type": "code",
   "execution_count": 1,
   "metadata": {},
   "outputs": [],
   "source": [
    "# Set some environmental variables\n",
    "import os\n",
    "import sys\n",
    "import json\n",
    "import matplotlib.pyplot as plt\n",
    "import numpy; np = numpy\n",
    "import datetime\n",
    "\n",
    "np.random.seed(1)\n",
    "\n",
    "try:\n",
    "    import util\n",
    "except ImportError:\n",
    "    # Modify this according to your local env\n",
    "    _src_root = Path.home() / \"imageqc-master\"\n",
    "    sys.path.append(str(_src_root))\n",
    "    import util"
   ]
  },
  {
   "cell_type": "markdown",
   "metadata": {},
   "source": [
    "Because we need load training/dev/test datasets every time, we made some helpers to simplify these.\n",
    "\n",
    "These are defined in `util.py`"
   ]
  },
  {
   "cell_type": "markdown",
   "metadata": {},
   "source": [
    "### Use a helper function to load data into global environment. \n",
    "### Notes\n",
    "\n",
    "`matplotlib.pyplot.imread` function has a native method to read `.png` file. It reads pixels as 0-1 float numbers, not 0-255. It is very convenient, otherwise we would need normalize value. Luckily our data are all png files\n",
    "\n",
    "\n"
   ]
  },
  {
   "cell_type": "code",
   "execution_count": 2,
   "metadata": {},
   "outputs": [
    {
     "name": "stdout",
     "output_type": "stream",
     "text": [
      "Project directory is /Users/jytang/imageqc-master\n",
      "Training set is in /Users/jytang/imageqc-master/train_images\n",
      "Validation(dev) set is in /Users/jytang/imageqc-master/validation_images\n",
      "Evaluation(test) set is in /Users/jytang/imageqc-master/test_images\n",
      "Input image format is .png\n"
     ]
    }
   ],
   "source": [
    "# Initialize global variables\n",
    "util.inject_config()\n",
    "print(f\"Project directory is {HOME_DIR}\") \n",
    "print(f\"Training set is in {TRAIN_DIR}\") \n",
    "print(f\"Validation(dev) set is in {VALIDATION_DIR}\")\n",
    "print(f\"Evaluation(test) set is in {TEST_DIR}\") \n",
    "print(f\"Input image format is {EXTENSION}\")"
   ]
  },
  {
   "cell_type": "markdown",
   "metadata": {},
   "source": [
    "### Load training set with their labels"
   ]
  },
  {
   "cell_type": "code",
   "execution_count": 3,
   "metadata": {},
   "outputs": [
    {
     "name": "stdout",
     "output_type": "stream",
     "text": [
      "Reuse cached array train_cache.npz\n"
     ]
    },
    {
     "data": {
      "text/plain": [
       "<matplotlib.image.AxesImage at 0x1103edb70>"
      ]
     },
     "execution_count": 3,
     "metadata": {},
     "output_type": "execute_result"
    },
    {
     "data": {
      "image/png": "[encoded data removed]",
      "text/plain": [
       "<Figure size 432x288 with 1 Axes>"
      ]
     },
     "metadata": {
      "needs_background": "light"
     },
     "output_type": "display_data"
    }
   ],
   "source": [
    "x_train, y_train = util.read_image(\"train\", EXTENSION, onehot=False)\n",
    "plt.imshow(x_train[0, :, :, :])"
   ]
  },
  {
   "cell_type": "markdown",
   "metadata": {},
   "source": [
    "### The label is simply 0 (good) and 1 (bad) for each image"
   ]
  },
  {
   "cell_type": "code",
   "execution_count": 4,
   "metadata": {},
   "outputs": [
    {
     "data": {
      "text/html": [
       "<div>\n",
       "<style scoped>\n",
       "    .dataframe tbody tr th:only-of-type {\n",
       "        vertical-align: middle;\n",
       "    }\n",
       "\n",
       "    .dataframe tbody tr th {\n",
       "        vertical-align: top;\n",
       "    }\n",
       "\n",
       "    .dataframe thead th {\n",
       "        text-align: right;\n",
       "    }\n",
       "</style>\n",
       "<table border=\"1\" class=\"dataframe\">\n",
       "  <thead>\n",
       "    <tr style=\"text-align: right;\">\n",
       "      <th></th>\n",
       "      <th>bad</th>\n",
       "    </tr>\n",
       "  </thead>\n",
       "  <tbody>\n",
       "    <tr>\n",
       "      <th>0</th>\n",
       "      <td>0</td>\n",
       "    </tr>\n",
       "    <tr>\n",
       "      <th>1</th>\n",
       "      <td>0</td>\n",
       "    </tr>\n",
       "    <tr>\n",
       "      <th>2</th>\n",
       "      <td>0</td>\n",
       "    </tr>\n",
       "    <tr>\n",
       "      <th>3</th>\n",
       "      <td>0</td>\n",
       "    </tr>\n",
       "    <tr>\n",
       "      <th>4</th>\n",
       "      <td>0</td>\n",
       "    </tr>\n",
       "    <tr>\n",
       "      <th>...</th>\n",
       "      <td>...</td>\n",
       "    </tr>\n",
       "    <tr>\n",
       "      <th>165</th>\n",
       "      <td>0</td>\n",
       "    </tr>\n",
       "    <tr>\n",
       "      <th>166</th>\n",
       "      <td>0</td>\n",
       "    </tr>\n",
       "    <tr>\n",
       "      <th>167</th>\n",
       "      <td>0</td>\n",
       "    </tr>\n",
       "    <tr>\n",
       "      <th>168</th>\n",
       "      <td>0</td>\n",
       "    </tr>\n",
       "    <tr>\n",
       "      <th>169</th>\n",
       "      <td>0</td>\n",
       "    </tr>\n",
       "  </tbody>\n",
       "</table>\n",
       "<p>170 rows × 1 columns</p>\n",
       "</div>"
      ],
      "text/plain": [
       "     bad\n",
       "0      0\n",
       "1      0\n",
       "2      0\n",
       "3      0\n",
       "4      0\n",
       "..   ...\n",
       "165    0\n",
       "166    0\n",
       "167    0\n",
       "168    0\n",
       "169    0\n",
       "\n",
       "[170 rows x 1 columns]"
      ]
     },
     "execution_count": 4,
     "metadata": {},
     "output_type": "execute_result"
    }
   ],
   "source": [
    "import pandas as pd\n",
    "pd.read_csv(\"test_labels.csv\", header=None, names=[\"bad\"])"
   ]
  },
  {
   "cell_type": "markdown",
   "metadata": {},
   "source": [
    "### Load test set (evaluation images) and labels"
   ]
  },
  {
   "cell_type": "code",
   "execution_count": 5,
   "metadata": {},
   "outputs": [
    {
     "name": "stdout",
     "output_type": "stream",
     "text": [
      "Reuse cached array test_cache.npz\n"
     ]
    }
   ],
   "source": [
    "x_test, y_test = util.read_image(\"test\", EXTENSION, onehot=False)"
   ]
  },
  {
   "cell_type": "markdown",
   "metadata": {},
   "source": [
    "### Let us start with the simplest idea, logistic regression. Our idea is very simple, \n",
    "\n",
    "\\begin{equation}\n",
    "l(\\vec{z}(z_1, z_2, \\cdots, z_{n})) = \\frac{1}{1+e^{-\\vec{z}}}\n",
    "\\end{equation}\n",
    "\n",
    "We also call it as softmax regression\n"
   ]
  },
  {
   "cell_type": "code",
   "execution_count": 6,
   "metadata": {},
   "outputs": [],
   "source": [
    "from sklearn.linear_model import LogisticRegression"
   ]
  },
  {
   "cell_type": "code",
   "execution_count": 7,
   "metadata": {},
   "outputs": [
    {
     "name": "stdout",
     "output_type": "stream",
     "text": [
      "Reuse cached array validation_cache.npz\n"
     ]
    }
   ],
   "source": [
    "x_validation, y_validation = util.read_image(\"validation\", onehot=False)"
   ]
  },
  {
   "cell_type": "code",
   "execution_count": 8,
   "metadata": {},
   "outputs": [],
   "source": [
    "from sklearn.decomposition import PCA"
   ]
  },
  {
   "cell_type": "code",
   "execution_count": 9,
   "metadata": {},
   "outputs": [
    {
     "data": {
      "text/plain": [
       "PCA(copy=True, iterated_power='auto', n_components=10, random_state=None,\n",
       "    svd_solver='auto', tol=0.0, whiten=False)"
      ]
     },
     "execution_count": 9,
     "metadata": {},
     "output_type": "execute_result"
    }
   ],
   "source": [
    "pca = PCA(n_components=10, copy=True)\n",
    "x_validation_pca = numpy.reshape(x_validation, (x_validation.shape[0], -1))\n",
    "pca.fit(x_validation_pca)"
   ]
  },
  {
   "cell_type": "code",
   "execution_count": 10,
   "metadata": {},
   "outputs": [
    {
     "name": "stdout",
     "output_type": "stream",
     "text": [
      "[0.33927932 0.08207551 0.03509    0.03322235 0.02435511 0.02256664\n",
      " 0.0211048  0.01563743 0.01447871 0.01384463]\n"
     ]
    }
   ],
   "source": [
    "print(pca.explained_variance_ratio_)"
   ]
  },
  {
   "cell_type": "code",
   "execution_count": 11,
   "metadata": {},
   "outputs": [
    {
     "name": "stdout",
     "output_type": "stream",
     "text": [
      "(740, 1404000)\n"
     ]
    },
    {
     "name": "stderr",
     "output_type": "stream",
     "text": [
      "/opt/miniconda3/envs/ml/lib/python3.6/site-packages/ipykernel_launcher.py:4: DeprecationWarning: This function is deprecated. Please call randint(0, 1404000 + 1) instead\n",
      "  after removing the cwd from sys.path.\n"
     ]
    }
   ],
   "source": [
    "x_train_logistric = x_train.reshape((740, -1))\n",
    "print(x_train_logistric.shape)\n",
    "# Let us random pick 100 pixels from it to build a model\n",
    "a = np.random.random_integers(0, 1404000, 100)\n",
    "x_train_logistric_sample = x_train_logistric[:, a]"
   ]
  },
  {
   "cell_type": "code",
   "execution_count": 12,
   "metadata": {},
   "outputs": [
    {
     "data": {
      "text/plain": [
       "(740, 10)"
      ]
     },
     "execution_count": 12,
     "metadata": {},
     "output_type": "execute_result"
    }
   ],
   "source": [
    "x_train_logistri_pca = pca.transform(x_train_logistric)\n",
    "x_train_logistri_pca.shape"
   ]
  },
  {
   "cell_type": "markdown",
   "metadata": {},
   "source": [
    "### Now let us build logistic regression model"
   ]
  },
  {
   "cell_type": "code",
   "execution_count": 13,
   "metadata": {},
   "outputs": [],
   "source": [
    "clf = LogisticRegression(verbose=True)"
   ]
  },
  {
   "cell_type": "code",
   "execution_count": 14,
   "metadata": {},
   "outputs": [
    {
     "name": "stdout",
     "output_type": "stream",
     "text": [
      "[LibLinear]"
     ]
    },
    {
     "name": "stderr",
     "output_type": "stream",
     "text": [
      "/opt/miniconda3/envs/ml/lib/python3.6/site-packages/sklearn/linear_model/logistic.py:432: FutureWarning: Default solver will be changed to 'lbfgs' in 0.22. Specify a solver to silence this warning.\n",
      "  FutureWarning)\n"
     ]
    },
    {
     "data": {
      "text/plain": [
       "LogisticRegression(C=1.0, class_weight=None, dual=False, fit_intercept=True,\n",
       "                   intercept_scaling=1, l1_ratio=None, max_iter=100,\n",
       "                   multi_class='warn', n_jobs=None, penalty='l2',\n",
       "                   random_state=None, solver='warn', tol=0.0001, verbose=True,\n",
       "                   warm_start=False)"
      ]
     },
     "execution_count": 14,
     "metadata": {},
     "output_type": "execute_result"
    }
   ],
   "source": [
    "clf.fit(x_train_logistri_pca, y_train)"
   ]
  },
  {
   "cell_type": "code",
   "execution_count": 15,
   "metadata": {},
   "outputs": [
    {
     "name": "stdout",
     "output_type": "stream",
     "text": [
      "[0. 0. 0. 0. 0. 0. 0. 0. 0. 0. 0. 0. 0. 0. 0. 0. 0. 0. 0. 0. 0. 0. 0. 0.\n",
      " 0. 0. 0. 0. 0. 0. 0. 0. 0. 0. 0. 0. 0. 0. 0. 0. 0. 0. 0. 0. 0. 0. 0. 0.\n",
      " 0. 0. 0. 0. 0. 0. 0. 0. 0. 0. 0. 0. 0. 0. 0. 0. 0. 0. 0. 0. 0. 0. 0. 0.\n",
      " 0. 0. 0. 0. 0. 0. 0. 0. 0. 0. 0. 0. 0. 0. 0. 0. 0. 0. 0. 0. 0. 0. 0. 0.\n",
      " 0. 0. 0. 0. 0. 0. 0. 0. 0. 0. 0. 0. 0. 0. 0. 0. 0. 0. 0. 0. 0. 0. 0. 0.\n",
      " 0. 0. 0. 0. 0. 0. 0. 0. 0. 0. 1. 0. 0. 0. 0. 0. 0. 0. 0. 0. 0. 0. 0. 0.\n",
      " 0. 0. 0. 0. 0. 0. 0. 0. 0. 0. 0. 0. 0. 0. 0. 0. 0. 0. 0. 0. 0. 0. 0. 0.\n",
      " 0. 0.]\n",
      "Score = 88.82%\n"
     ]
    }
   ],
   "source": [
    "result = clf.predict(pca.transform(x_test.reshape((x_test.shape[0], -1)))) \n",
    "print(result)\n",
    "print(f\"Score = {(result == y_test).sum() / len(result) * 100:.2f}%\")\n",
    "del clf"
   ]
  },
  {
   "cell_type": "markdown",
   "metadata": {},
   "source": [
    "### No really good, In fact, it is worse than a random pickup"
   ]
  },
  {
   "cell_type": "code",
   "execution_count": 16,
   "metadata": {},
   "outputs": [],
   "source": [
    "clf = LogisticRegression(verbose=True)"
   ]
  },
  {
   "cell_type": "code",
   "execution_count": 17,
   "metadata": {},
   "outputs": [
    {
     "name": "stdout",
     "output_type": "stream",
     "text": [
      "[LibLinear]"
     ]
    },
    {
     "name": "stderr",
     "output_type": "stream",
     "text": [
      "/opt/miniconda3/envs/ml/lib/python3.6/site-packages/sklearn/linear_model/logistic.py:432: FutureWarning: Default solver will be changed to 'lbfgs' in 0.22. Specify a solver to silence this warning.\n",
      "  FutureWarning)\n"
     ]
    },
    {
     "data": {
      "text/plain": [
       "LogisticRegression(C=1.0, class_weight=None, dual=False, fit_intercept=True,\n",
       "                   intercept_scaling=1, l1_ratio=None, max_iter=100,\n",
       "                   multi_class='warn', n_jobs=None, penalty='l2',\n",
       "                   random_state=None, solver='warn', tol=0.0001, verbose=True,\n",
       "                   warm_start=False)"
      ]
     },
     "execution_count": 17,
     "metadata": {},
     "output_type": "execute_result"
    }
   ],
   "source": [
    "clf.fit(x_train_logistric_sample, y_train)"
   ]
  },
  {
   "cell_type": "code",
   "execution_count": 18,
   "metadata": {},
   "outputs": [
    {
     "name": "stdout",
     "output_type": "stream",
     "text": [
      "[0. 0. 0. 0. 0. 0. 0. 0. 0. 0. 0. 0. 0. 0. 0. 0. 0. 0. 0. 0. 0. 0. 0. 0.\n",
      " 0. 0. 0. 0. 0. 0. 0. 0. 0. 0. 0. 0. 0. 0. 0. 0. 0. 0. 0. 0. 0. 0. 0. 0.\n",
      " 0. 0. 0. 0. 0. 0. 0. 0. 0. 0. 0. 0. 0. 0. 0. 0. 0. 0. 0. 0. 0. 0. 0. 0.\n",
      " 0. 0. 0. 0. 0. 0. 0. 0. 0. 0. 0. 0. 0. 0. 0. 0. 0. 0. 0. 0. 0. 0. 0. 0.\n",
      " 0. 0. 0. 0. 0. 0. 0. 0. 0. 0. 0. 0. 0. 0. 0. 0. 0. 0. 0. 0. 0. 0. 0. 0.\n",
      " 0. 0. 0. 0. 1. 1. 1. 1. 0. 0. 0. 1. 0. 1. 0. 1. 0. 0. 0. 0. 0. 0. 0. 0.\n",
      " 0. 0. 0. 0. 0. 0. 0. 0. 0. 0. 0. 0. 0. 0. 0. 0. 0. 0. 0. 1. 0. 1. 0. 1.\n",
      " 1. 0.]\n",
      "Score = 90.00%\n"
     ]
    }
   ],
   "source": [
    "result = clf.predict(x_test.reshape((x_test.shape[0], -1))[:, a]) \n",
    "print(result)\n",
    "print(f\"Score = {(result == y_test).sum() / len(result) * 100:.2f}%\")"
   ]
  },
  {
   "cell_type": "markdown",
   "metadata": {},
   "source": [
    "Of course we can do better, for this `simple` case, we can reach 100% correctness in many ways."
   ]
  },
  {
   "cell_type": "code",
   "execution_count": 19,
   "metadata": {},
   "outputs": [
    {
     "data": {
      "text/plain": [
       "<matplotlib.image.AxesImage at 0x143738c88>"
      ]
     },
     "execution_count": 19,
     "metadata": {},
     "output_type": "execute_result"
    },
    {
     "data": {
      "image/png": "[encoded data removed]",
      "text/plain": [
       "<Figure size 432x288 with 1 Axes>"
      ]
     },
     "metadata": {
      "needs_background": "light"
     },
     "output_type": "display_data"
    }
   ],
   "source": [
    "plt.imshow(x_train[0, :, :, :])"
   ]
  },
  {
   "cell_type": "markdown",
   "metadata": {},
   "source": [
    "### We can think about how to create some proper \"structured features\"\n",
    "For example, color (RGB) distribution"
   ]
  },
  {
   "cell_type": "code",
   "execution_count": 20,
   "metadata": {},
   "outputs": [],
   "source": [
    "def feature_array_from_band(band, output=False):\n",
    "    avg = numpy.mean(band)\n",
    "    if output: \n",
    "        print(f\"mean color value={avg}\")\n",
    "    hist = numpy.histogram(numpy.ravel(band))[0] / band.shape[0] / band.shape[1]\n",
    "    if output:\n",
    "        print(f\"histgram of pixels are {hist}\")\n",
    "    return [avg] + list(hist)"
   ]
  },
  {
   "cell_type": "code",
   "execution_count": 21,
   "metadata": {},
   "outputs": [
    {
     "name": "stdout",
     "output_type": "stream",
     "text": [
      "mean color value=0.06686550378799438\n",
      "histgram of pixels are [0.92733547 0.00242521 0.         0.         0.         0.\n",
      " 0.00836325 0.         0.         0.06187607]\n",
      "mean color value=0.1038186252117157\n",
      "histgram of pixels are [8.68408120e-01 0.00000000e+00 1.52820513e-02 0.00000000e+00\n",
      " 0.00000000e+00 0.00000000e+00 1.01175214e-02 5.81025641e-02\n",
      " 6.41025641e-05 4.80256410e-02]\n",
      "mean color value=0.10100289434194565\n",
      "histgram of pixels are [0.86834402 0.00846368 0.01196795 0.         0.         0.00088889\n",
      " 0.00500855 0.05816667 0.         0.04716026]\n"
     ]
    },
    {
     "data": {
      "image/png": "[encoded data removed]",
      "text/plain": [
       "<Figure size 1296x1440 with 3 Axes>"
      ]
     },
     "metadata": {
      "needs_background": "light"
     },
     "output_type": "display_data"
    }
   ],
   "source": [
    "plt.figure(figsize=(18,20))\n",
    "img_features = []\n",
    "for i in range(3):\n",
    "    image0 = x_train[0, :, :, i]\n",
    "    plt.subplot(int(f\"13{i + 1}\"))\n",
    "    plt.imshow(image0)\n",
    "    img_features += feature_array_from_band(image0, output=True)"
   ]
  },
  {
   "cell_type": "code",
   "execution_count": 22,
   "metadata": {},
   "outputs": [],
   "source": [
    "def dataset_to_feature_array(dataset):\n",
    "    p = numpy.zeros((dataset.shape[0], 33))\n",
    "    for i in range(dataset.shape[0]):\n",
    "        for b in range(3):\n",
    "            p[i, b * 11:(b + 1) * 11] = numpy.array(feature_array_from_band(dataset[i, :, :, b]))\n",
    "    return p"
   ]
  },
  {
   "cell_type": "code",
   "execution_count": 23,
   "metadata": {},
   "outputs": [
    {
     "name": "stdout",
     "output_type": "stream",
     "text": [
      "x_test shape: (170, 600, 780, 3)\n"
     ]
    }
   ],
   "source": [
    "# Load test images and labels\n",
    "x_train_nn = dataset_to_feature_array(x_train)\n",
    "x_validation_nn = dataset_to_feature_array(x_validation)\n",
    "x_test_nn = dataset_to_feature_array(x_test)\n",
    "print('x_test shape:', x_test.shape)"
   ]
  },
  {
   "cell_type": "code",
   "execution_count": 24,
   "metadata": {},
   "outputs": [],
   "source": [
    "from sklearn.neural_network import MLPClassifier"
   ]
  },
  {
   "cell_type": "code",
   "execution_count": 25,
   "metadata": {},
   "outputs": [],
   "source": [
    "clf = MLPClassifier(solver='adam', alpha=1e-5, hidden_layer_sizes=(10,), random_state=1, activation='relu', batch_size=32, verbose=True, max_iter=1000)"
   ]
  },
  {
   "cell_type": "code",
   "execution_count": 26,
   "metadata": {},
   "outputs": [
    {
     "name": "stdout",
     "output_type": "stream",
     "text": [
      "Iteration 1, loss = 0.96136452\n",
      "Iteration 2, loss = 0.81940994\n",
      "Iteration 3, loss = 0.68956951\n",
      "Iteration 4, loss = 0.58117914\n",
      "Iteration 5, loss = 0.49522434\n",
      "Iteration 6, loss = 0.42628582\n",
      "Iteration 7, loss = 0.37267596\n",
      "Iteration 8, loss = 0.32994017\n",
      "Iteration 9, loss = 0.29739418\n",
      "Iteration 10, loss = 0.27258164\n",
      "Iteration 11, loss = 0.25389627\n",
      "Iteration 12, loss = 0.23951630\n",
      "Iteration 13, loss = 0.22807617\n",
      "Iteration 14, loss = 0.21937839\n",
      "Iteration 15, loss = 0.21225535\n",
      "Iteration 16, loss = 0.20692179\n",
      "Iteration 17, loss = 0.20233450\n",
      "Iteration 18, loss = 0.19876160\n",
      "Iteration 19, loss = 0.19562221\n",
      "Iteration 20, loss = 0.19286632\n",
      "Iteration 21, loss = 0.19043752\n",
      "Iteration 22, loss = 0.18801162\n",
      "Iteration 23, loss = 0.18589075\n",
      "Iteration 24, loss = 0.18387840\n",
      "Iteration 25, loss = 0.18190272\n",
      "Iteration 26, loss = 0.18009994\n",
      "Iteration 27, loss = 0.17833362\n",
      "Iteration 28, loss = 0.17663980\n",
      "Iteration 29, loss = 0.17499923\n",
      "Iteration 30, loss = 0.17338813\n",
      "Iteration 31, loss = 0.17179637\n",
      "Iteration 32, loss = 0.17018945\n",
      "Iteration 33, loss = 0.16868686\n",
      "Iteration 34, loss = 0.16715832\n",
      "Iteration 35, loss = 0.16581958\n",
      "Iteration 36, loss = 0.16424305\n",
      "Iteration 37, loss = 0.16292681\n",
      "Iteration 38, loss = 0.16153794\n",
      "Iteration 39, loss = 0.16020988\n",
      "Iteration 40, loss = 0.15892625\n",
      "Iteration 41, loss = 0.15765169\n",
      "Iteration 42, loss = 0.15635035\n",
      "Iteration 43, loss = 0.15507558\n",
      "Iteration 44, loss = 0.15375290\n",
      "Iteration 45, loss = 0.15253374\n",
      "Iteration 46, loss = 0.15141191\n",
      "Iteration 47, loss = 0.15028429\n",
      "Iteration 48, loss = 0.14925197\n",
      "Iteration 49, loss = 0.14795731\n",
      "Iteration 50, loss = 0.14698939\n",
      "Iteration 51, loss = 0.14597391\n",
      "Iteration 52, loss = 0.14495141\n",
      "Iteration 53, loss = 0.14395043\n",
      "Iteration 54, loss = 0.14299711\n",
      "Iteration 55, loss = 0.14233572\n",
      "Iteration 56, loss = 0.14128272\n",
      "Iteration 57, loss = 0.14033129\n",
      "Iteration 58, loss = 0.13946631\n",
      "Iteration 59, loss = 0.13869677\n",
      "Iteration 60, loss = 0.13788339\n",
      "Iteration 61, loss = 0.13712362\n",
      "Iteration 62, loss = 0.13616945\n",
      "Iteration 63, loss = 0.13553669\n",
      "Iteration 64, loss = 0.13469185\n",
      "Iteration 65, loss = 0.13407842\n",
      "Iteration 66, loss = 0.13340965\n",
      "Iteration 67, loss = 0.13264400\n",
      "Iteration 68, loss = 0.13198364\n",
      "Iteration 69, loss = 0.13137458\n",
      "Iteration 70, loss = 0.13085912\n",
      "Iteration 71, loss = 0.13025880\n",
      "Iteration 72, loss = 0.12976399\n",
      "Iteration 73, loss = 0.12915629\n",
      "Iteration 74, loss = 0.12858365\n",
      "Iteration 75, loss = 0.12810009\n",
      "Iteration 76, loss = 0.12759651\n",
      "Iteration 77, loss = 0.12718952\n",
      "Iteration 78, loss = 0.12649073\n",
      "Iteration 79, loss = 0.12601437\n",
      "Iteration 80, loss = 0.12550635\n",
      "Iteration 81, loss = 0.12517374\n",
      "Iteration 82, loss = 0.12451502\n",
      "Iteration 83, loss = 0.12417429\n",
      "Iteration 84, loss = 0.12373080\n",
      "Iteration 85, loss = 0.12331870\n",
      "Iteration 86, loss = 0.12280567\n",
      "Iteration 87, loss = 0.12242132\n",
      "Iteration 88, loss = 0.12202504\n",
      "Iteration 89, loss = 0.12160041\n",
      "Iteration 90, loss = 0.12123011\n",
      "Iteration 91, loss = 0.12099037\n",
      "Iteration 92, loss = 0.12051786\n",
      "Iteration 93, loss = 0.12001210\n",
      "Iteration 94, loss = 0.11966080\n",
      "Iteration 95, loss = 0.11940792\n",
      "Iteration 96, loss = 0.11903237\n",
      "Iteration 97, loss = 0.11859238\n",
      "Iteration 98, loss = 0.11831013\n",
      "Iteration 99, loss = 0.11799531\n",
      "Iteration 100, loss = 0.11760247\n",
      "Iteration 101, loss = 0.11727318\n",
      "Iteration 102, loss = 0.11693862\n",
      "Iteration 103, loss = 0.11668368\n",
      "Iteration 104, loss = 0.11625447\n",
      "Iteration 105, loss = 0.11628481\n",
      "Iteration 106, loss = 0.11559494\n",
      "Iteration 107, loss = 0.11537545\n",
      "Iteration 108, loss = 0.11508784\n",
      "Iteration 109, loss = 0.11476440\n",
      "Iteration 110, loss = 0.11465923\n",
      "Iteration 111, loss = 0.11426859\n",
      "Iteration 112, loss = 0.11396643\n",
      "Iteration 113, loss = 0.11366503\n",
      "Iteration 114, loss = 0.11334173\n",
      "Iteration 115, loss = 0.11313342\n",
      "Iteration 116, loss = 0.11285028\n",
      "Iteration 117, loss = 0.11252404\n",
      "Iteration 118, loss = 0.11231782\n",
      "Iteration 119, loss = 0.11195533\n",
      "Iteration 120, loss = 0.11170979\n",
      "Iteration 121, loss = 0.11150284\n",
      "Iteration 122, loss = 0.11134847\n",
      "Iteration 123, loss = 0.11099742\n",
      "Iteration 124, loss = 0.11093028\n",
      "Iteration 125, loss = 0.11040636\n",
      "Iteration 126, loss = 0.11017077\n",
      "Iteration 127, loss = 0.10993699\n",
      "Iteration 128, loss = 0.10967832\n",
      "Iteration 129, loss = 0.10940864\n",
      "Iteration 130, loss = 0.10916140\n",
      "Iteration 131, loss = 0.10894001\n",
      "Iteration 132, loss = 0.10886116\n",
      "Iteration 133, loss = 0.10873052\n",
      "Iteration 134, loss = 0.10838799\n",
      "Iteration 135, loss = 0.10790169\n",
      "Iteration 136, loss = 0.10752860\n",
      "Iteration 137, loss = 0.10743817\n",
      "Iteration 138, loss = 0.10722571\n",
      "Iteration 139, loss = 0.10700734\n",
      "Iteration 140, loss = 0.10674342\n",
      "Iteration 141, loss = 0.10651068\n",
      "Iteration 142, loss = 0.10630747\n",
      "Iteration 143, loss = 0.10610510\n",
      "Iteration 144, loss = 0.10592996\n",
      "Iteration 145, loss = 0.10575054\n",
      "Iteration 146, loss = 0.10535489\n",
      "Iteration 147, loss = 0.10537445\n",
      "Iteration 148, loss = 0.10492261\n",
      "Iteration 149, loss = 0.10501338\n",
      "Iteration 150, loss = 0.10433263\n",
      "Iteration 151, loss = 0.10443462\n",
      "Iteration 152, loss = 0.10405963\n",
      "Iteration 153, loss = 0.10373563\n",
      "Iteration 154, loss = 0.10357928\n",
      "Iteration 155, loss = 0.10360581\n",
      "Iteration 156, loss = 0.10304976\n",
      "Iteration 157, loss = 0.10285809\n",
      "Iteration 158, loss = 0.10264471\n",
      "Iteration 159, loss = 0.10239995\n",
      "Iteration 160, loss = 0.10221575\n",
      "Iteration 161, loss = 0.10199422\n",
      "Iteration 162, loss = 0.10177645\n",
      "Iteration 163, loss = 0.10159813\n",
      "Iteration 164, loss = 0.10166513\n",
      "Iteration 165, loss = 0.10122646\n",
      "Iteration 166, loss = 0.10085294\n",
      "Iteration 167, loss = 0.10088740\n",
      "Iteration 168, loss = 0.10056387\n",
      "Iteration 169, loss = 0.10037588\n",
      "Iteration 170, loss = 0.10008053\n",
      "Iteration 171, loss = 0.09983918\n",
      "Iteration 172, loss = 0.09969849\n",
      "Iteration 173, loss = 0.09955174\n",
      "Iteration 174, loss = 0.09913725\n",
      "Iteration 175, loss = 0.09901690\n",
      "Iteration 176, loss = 0.09893089\n",
      "Iteration 177, loss = 0.09853194\n",
      "Iteration 178, loss = 0.09834008\n",
      "Iteration 179, loss = 0.09810153\n",
      "Iteration 180, loss = 0.09787139\n",
      "Iteration 181, loss = 0.09775554\n",
      "Iteration 182, loss = 0.09752263\n",
      "Iteration 183, loss = 0.09739416\n",
      "Iteration 184, loss = 0.09713573\n",
      "Iteration 185, loss = 0.09705902\n",
      "Iteration 186, loss = 0.09664030\n",
      "Iteration 187, loss = 0.09685558\n",
      "Iteration 188, loss = 0.09612823\n",
      "Iteration 189, loss = 0.09596755\n",
      "Iteration 190, loss = 0.09581063\n",
      "Iteration 191, loss = 0.09557075\n",
      "Iteration 192, loss = 0.09551725\n",
      "Iteration 193, loss = 0.09511332\n",
      "Iteration 194, loss = 0.09531275\n",
      "Iteration 195, loss = 0.09486389\n",
      "Iteration 196, loss = 0.09473255\n",
      "Iteration 197, loss = 0.09458315\n",
      "Iteration 198, loss = 0.09398506\n",
      "Iteration 199, loss = 0.09412701\n",
      "Iteration 200, loss = 0.09364211\n",
      "Iteration 201, loss = 0.09347367\n",
      "Iteration 202, loss = 0.09330432\n",
      "Iteration 203, loss = 0.09336418\n",
      "Iteration 204, loss = 0.09297392\n",
      "Iteration 205, loss = 0.09284920\n",
      "Iteration 206, loss = 0.09256346\n",
      "Iteration 207, loss = 0.09238996\n",
      "Iteration 208, loss = 0.09211860\n",
      "Iteration 209, loss = 0.09190041\n",
      "Iteration 210, loss = 0.09201234\n",
      "Iteration 211, loss = 0.09167012\n",
      "Iteration 212, loss = 0.09140626\n",
      "Iteration 213, loss = 0.09118101\n",
      "Iteration 214, loss = 0.09106718\n",
      "Iteration 215, loss = 0.09069884\n",
      "Iteration 216, loss = 0.09060161\n",
      "Iteration 217, loss = 0.09053691\n",
      "Iteration 218, loss = 0.09044124\n",
      "Iteration 219, loss = 0.09009283\n",
      "Iteration 220, loss = 0.08985196\n",
      "Iteration 221, loss = 0.08967028\n",
      "Iteration 222, loss = 0.08950528\n",
      "Iteration 223, loss = 0.08932096\n",
      "Iteration 224, loss = 0.08901371\n",
      "Iteration 225, loss = 0.08910101\n",
      "Iteration 226, loss = 0.08872660\n",
      "Iteration 227, loss = 0.08859935\n",
      "Iteration 228, loss = 0.08827054\n",
      "Iteration 229, loss = 0.08821920\n",
      "Iteration 230, loss = 0.08796285\n",
      "Iteration 231, loss = 0.08773408\n",
      "Iteration 232, loss = 0.08756044\n",
      "Iteration 233, loss = 0.08740878\n",
      "Iteration 234, loss = 0.08726996\n",
      "Iteration 235, loss = 0.08710641\n",
      "Iteration 236, loss = 0.08716976\n",
      "Iteration 237, loss = 0.08679884\n",
      "Iteration 238, loss = 0.08669043\n",
      "Iteration 239, loss = 0.08618818\n",
      "Iteration 240, loss = 0.08639858\n",
      "Iteration 241, loss = 0.08608426\n",
      "Iteration 242, loss = 0.08615850\n",
      "Iteration 243, loss = 0.08546368\n",
      "Iteration 244, loss = 0.08553281\n",
      "Iteration 245, loss = 0.08524422\n",
      "Iteration 246, loss = 0.08530818\n",
      "Iteration 247, loss = 0.08514421\n",
      "Iteration 248, loss = 0.08501151\n",
      "Iteration 249, loss = 0.08478793\n",
      "Iteration 250, loss = 0.08445849\n",
      "Iteration 251, loss = 0.08428876\n",
      "Iteration 252, loss = 0.08419847\n"
     ]
    },
    {
     "name": "stdout",
     "output_type": "stream",
     "text": [
      "Iteration 253, loss = 0.08397180\n",
      "Iteration 254, loss = 0.08372732\n",
      "Iteration 255, loss = 0.08365261\n",
      "Iteration 256, loss = 0.08335287\n",
      "Iteration 257, loss = 0.08330180\n",
      "Iteration 258, loss = 0.08328884\n",
      "Iteration 259, loss = 0.08317112\n",
      "Iteration 260, loss = 0.08279955\n",
      "Iteration 261, loss = 0.08273583\n",
      "Iteration 262, loss = 0.08244004\n",
      "Iteration 263, loss = 0.08238359\n",
      "Iteration 264, loss = 0.08226854\n",
      "Iteration 265, loss = 0.08177571\n",
      "Iteration 266, loss = 0.08180127\n",
      "Iteration 267, loss = 0.08192064\n",
      "Iteration 268, loss = 0.08160920\n",
      "Iteration 269, loss = 0.08136254\n",
      "Iteration 270, loss = 0.08126292\n",
      "Iteration 271, loss = 0.08170953\n",
      "Iteration 272, loss = 0.08096726\n",
      "Iteration 273, loss = 0.08076502\n",
      "Iteration 274, loss = 0.08052134\n",
      "Iteration 275, loss = 0.08029941\n",
      "Iteration 276, loss = 0.08027891\n",
      "Iteration 277, loss = 0.08005568\n",
      "Iteration 278, loss = 0.07984471\n",
      "Iteration 279, loss = 0.08000910\n",
      "Iteration 280, loss = 0.07935796\n",
      "Iteration 281, loss = 0.07926305\n",
      "Iteration 282, loss = 0.07932352\n",
      "Iteration 283, loss = 0.07906570\n",
      "Iteration 284, loss = 0.07883851\n",
      "Iteration 285, loss = 0.07871456\n",
      "Iteration 286, loss = 0.07845727\n",
      "Iteration 287, loss = 0.07837942\n",
      "Iteration 288, loss = 0.07819471\n",
      "Iteration 289, loss = 0.07788753\n",
      "Iteration 290, loss = 0.07775866\n",
      "Iteration 291, loss = 0.07783685\n",
      "Iteration 292, loss = 0.07744347\n",
      "Iteration 293, loss = 0.07735769\n",
      "Iteration 294, loss = 0.07723372\n",
      "Iteration 295, loss = 0.07703240\n",
      "Iteration 296, loss = 0.07689637\n",
      "Iteration 297, loss = 0.07662153\n",
      "Iteration 298, loss = 0.07641193\n",
      "Iteration 299, loss = 0.07626031\n",
      "Iteration 300, loss = 0.07640024\n",
      "Iteration 301, loss = 0.07594770\n",
      "Iteration 302, loss = 0.07576562\n",
      "Iteration 303, loss = 0.07561013\n",
      "Iteration 304, loss = 0.07555303\n",
      "Iteration 305, loss = 0.07543438\n",
      "Iteration 306, loss = 0.07538365\n",
      "Iteration 307, loss = 0.07521626\n",
      "Iteration 308, loss = 0.07488682\n",
      "Iteration 309, loss = 0.07466940\n",
      "Iteration 310, loss = 0.07459815\n",
      "Iteration 311, loss = 0.07499362\n",
      "Iteration 312, loss = 0.07461437\n",
      "Iteration 313, loss = 0.07425347\n",
      "Iteration 314, loss = 0.07452502\n",
      "Iteration 315, loss = 0.07323787\n",
      "Iteration 316, loss = 0.07376388\n",
      "Iteration 317, loss = 0.07372811\n",
      "Iteration 318, loss = 0.07343341\n",
      "Iteration 319, loss = 0.07357121\n",
      "Iteration 320, loss = 0.07307544\n",
      "Iteration 321, loss = 0.07295447\n",
      "Iteration 322, loss = 0.07284116\n",
      "Iteration 323, loss = 0.07258875\n",
      "Iteration 324, loss = 0.07244999\n",
      "Iteration 325, loss = 0.07226928\n",
      "Iteration 326, loss = 0.07212221\n",
      "Iteration 327, loss = 0.07197608\n",
      "Iteration 328, loss = 0.07190685\n",
      "Iteration 329, loss = 0.07170997\n",
      "Iteration 330, loss = 0.07201758\n",
      "Iteration 331, loss = 0.07143829\n",
      "Iteration 332, loss = 0.07135908\n",
      "Iteration 333, loss = 0.07126509\n",
      "Iteration 334, loss = 0.07117850\n",
      "Iteration 335, loss = 0.07091307\n",
      "Iteration 336, loss = 0.07079113\n",
      "Iteration 337, loss = 0.07066975\n",
      "Iteration 338, loss = 0.07042114\n",
      "Iteration 339, loss = 0.07043857\n",
      "Iteration 340, loss = 0.07036574\n",
      "Iteration 341, loss = 0.07003931\n",
      "Iteration 342, loss = 0.07009064\n",
      "Iteration 343, loss = 0.06957909\n",
      "Iteration 344, loss = 0.06967736\n",
      "Iteration 345, loss = 0.06967937\n",
      "Iteration 346, loss = 0.07025759\n",
      "Iteration 347, loss = 0.06972487\n",
      "Iteration 348, loss = 0.06923102\n",
      "Iteration 349, loss = 0.06896798\n",
      "Iteration 350, loss = 0.06879077\n",
      "Iteration 351, loss = 0.06857353\n",
      "Iteration 352, loss = 0.06861790\n",
      "Iteration 353, loss = 0.06891792\n",
      "Iteration 354, loss = 0.06826210\n",
      "Iteration 355, loss = 0.06814312\n",
      "Iteration 356, loss = 0.06808238\n",
      "Iteration 357, loss = 0.06783530\n",
      "Iteration 358, loss = 0.06794628\n",
      "Iteration 359, loss = 0.06759799\n",
      "Iteration 360, loss = 0.06737480\n",
      "Iteration 361, loss = 0.06729013\n",
      "Iteration 362, loss = 0.06727048\n",
      "Iteration 363, loss = 0.06734789\n",
      "Iteration 364, loss = 0.06735798\n",
      "Iteration 365, loss = 0.06706768\n",
      "Iteration 366, loss = 0.06668982\n",
      "Iteration 367, loss = 0.06655408\n",
      "Iteration 368, loss = 0.06666494\n",
      "Iteration 369, loss = 0.06638300\n",
      "Iteration 370, loss = 0.06612318\n",
      "Iteration 371, loss = 0.06593451\n",
      "Iteration 372, loss = 0.06604725\n",
      "Iteration 373, loss = 0.06622187\n",
      "Iteration 374, loss = 0.06587931\n",
      "Iteration 375, loss = 0.06545248\n",
      "Iteration 376, loss = 0.06547348\n",
      "Iteration 377, loss = 0.06517860\n",
      "Iteration 378, loss = 0.06513313\n",
      "Iteration 379, loss = 0.06515838\n",
      "Iteration 380, loss = 0.06479811\n",
      "Iteration 381, loss = 0.06469940\n",
      "Iteration 382, loss = 0.06459658\n",
      "Iteration 383, loss = 0.06486130\n",
      "Iteration 384, loss = 0.06450839\n",
      "Iteration 385, loss = 0.06490075\n",
      "Iteration 386, loss = 0.06452347\n",
      "Iteration 387, loss = 0.06411504\n",
      "Iteration 388, loss = 0.06429664\n",
      "Iteration 389, loss = 0.06371974\n",
      "Iteration 390, loss = 0.06370792\n",
      "Iteration 391, loss = 0.06377276\n",
      "Iteration 392, loss = 0.06356619\n",
      "Iteration 393, loss = 0.06371991\n",
      "Iteration 394, loss = 0.06332485\n",
      "Iteration 395, loss = 0.06320959\n",
      "Iteration 396, loss = 0.06299498\n",
      "Iteration 397, loss = 0.06291421\n",
      "Iteration 398, loss = 0.06285078\n",
      "Iteration 399, loss = 0.06260501\n",
      "Iteration 400, loss = 0.06240087\n",
      "Iteration 401, loss = 0.06233398\n",
      "Iteration 402, loss = 0.06233874\n",
      "Iteration 403, loss = 0.06221900\n",
      "Iteration 404, loss = 0.06205368\n",
      "Iteration 405, loss = 0.06214048\n",
      "Iteration 406, loss = 0.06183380\n",
      "Iteration 407, loss = 0.06177485\n",
      "Iteration 408, loss = 0.06157452\n",
      "Iteration 409, loss = 0.06143049\n",
      "Iteration 410, loss = 0.06140638\n",
      "Iteration 411, loss = 0.06120783\n",
      "Iteration 412, loss = 0.06108655\n",
      "Iteration 413, loss = 0.06103819\n",
      "Iteration 414, loss = 0.06091228\n",
      "Iteration 415, loss = 0.06075006\n",
      "Iteration 416, loss = 0.06064948\n",
      "Iteration 417, loss = 0.06059229\n",
      "Iteration 418, loss = 0.06040709\n",
      "Iteration 419, loss = 0.06066900\n",
      "Iteration 420, loss = 0.06016293\n",
      "Iteration 421, loss = 0.06005933\n",
      "Iteration 422, loss = 0.06015207\n",
      "Iteration 423, loss = 0.06035096\n",
      "Iteration 424, loss = 0.06013197\n",
      "Iteration 425, loss = 0.05996034\n",
      "Iteration 426, loss = 0.05981169\n",
      "Iteration 427, loss = 0.05942664\n",
      "Iteration 428, loss = 0.05980398\n",
      "Iteration 429, loss = 0.05930898\n",
      "Iteration 430, loss = 0.05952093\n",
      "Iteration 431, loss = 0.05903802\n",
      "Iteration 432, loss = 0.05894092\n",
      "Iteration 433, loss = 0.05953718\n",
      "Iteration 434, loss = 0.05948816\n",
      "Iteration 435, loss = 0.05903127\n",
      "Iteration 436, loss = 0.05921393\n",
      "Iteration 437, loss = 0.05872115\n",
      "Iteration 438, loss = 0.05861407\n",
      "Iteration 439, loss = 0.05817622\n",
      "Iteration 440, loss = 0.05809613\n",
      "Iteration 441, loss = 0.05793099\n",
      "Iteration 442, loss = 0.05800182\n",
      "Iteration 443, loss = 0.05785521\n",
      "Iteration 444, loss = 0.05772859\n",
      "Iteration 445, loss = 0.05754024\n",
      "Iteration 446, loss = 0.05749360\n",
      "Iteration 447, loss = 0.05739183\n",
      "Iteration 448, loss = 0.05764094\n",
      "Iteration 449, loss = 0.05752795\n",
      "Iteration 450, loss = 0.05721323\n",
      "Iteration 451, loss = 0.05732634\n",
      "Iteration 452, loss = 0.05685957\n",
      "Iteration 453, loss = 0.05700995\n",
      "Iteration 454, loss = 0.05689453\n",
      "Iteration 455, loss = 0.05761461\n",
      "Iteration 456, loss = 0.05679329\n",
      "Iteration 457, loss = 0.05652446\n",
      "Iteration 458, loss = 0.05639958\n",
      "Iteration 459, loss = 0.05680096\n",
      "Iteration 460, loss = 0.05618769\n",
      "Iteration 461, loss = 0.05619062\n",
      "Iteration 462, loss = 0.05636358\n",
      "Iteration 463, loss = 0.05609080\n",
      "Iteration 464, loss = 0.05635440\n",
      "Iteration 465, loss = 0.05611303\n",
      "Iteration 466, loss = 0.05593551\n",
      "Iteration 467, loss = 0.05566516\n",
      "Iteration 468, loss = 0.05539908\n",
      "Iteration 469, loss = 0.05560168\n",
      "Iteration 470, loss = 0.05624740\n",
      "Iteration 471, loss = 0.05499104\n",
      "Iteration 472, loss = 0.05539075\n",
      "Iteration 473, loss = 0.05539574\n",
      "Iteration 474, loss = 0.05496337\n",
      "Iteration 475, loss = 0.05483120\n",
      "Iteration 476, loss = 0.05503322\n",
      "Iteration 477, loss = 0.05515502\n",
      "Iteration 478, loss = 0.05505654\n",
      "Iteration 479, loss = 0.05445922\n",
      "Iteration 480, loss = 0.05447277\n",
      "Iteration 481, loss = 0.05484985\n",
      "Iteration 482, loss = 0.05447761\n",
      "Iteration 483, loss = 0.05435000\n",
      "Iteration 484, loss = 0.05421747\n",
      "Iteration 485, loss = 0.05419341\n",
      "Iteration 486, loss = 0.05397889\n",
      "Iteration 487, loss = 0.05393229\n",
      "Iteration 488, loss = 0.05372777\n",
      "Iteration 489, loss = 0.05365741\n",
      "Iteration 490, loss = 0.05361462\n",
      "Iteration 491, loss = 0.05344588\n",
      "Iteration 492, loss = 0.05361312\n",
      "Iteration 493, loss = 0.05335120\n",
      "Iteration 494, loss = 0.05320977\n",
      "Iteration 495, loss = 0.05314987\n",
      "Iteration 496, loss = 0.05318642\n",
      "Iteration 497, loss = 0.05306866\n",
      "Iteration 498, loss = 0.05297016\n",
      "Iteration 499, loss = 0.05314948\n",
      "Iteration 500, loss = 0.05320013\n",
      "Iteration 501, loss = 0.05251242\n",
      "Iteration 502, loss = 0.05273178\n",
      "Iteration 503, loss = 0.05286883\n",
      "Iteration 504, loss = 0.05239158\n",
      "Iteration 505, loss = 0.05241655\n",
      "Iteration 506, loss = 0.05244072\n",
      "Iteration 507, loss = 0.05206527\n",
      "Iteration 508, loss = 0.05241543\n",
      "Iteration 509, loss = 0.05223798\n",
      "Iteration 510, loss = 0.05201366\n",
      "Iteration 511, loss = 0.05181526\n",
      "Iteration 512, loss = 0.05174876\n",
      "Iteration 513, loss = 0.05171409\n"
     ]
    },
    {
     "name": "stdout",
     "output_type": "stream",
     "text": [
      "Iteration 514, loss = 0.05174048\n",
      "Iteration 515, loss = 0.05170382\n",
      "Iteration 516, loss = 0.05162593\n",
      "Iteration 517, loss = 0.05140589\n",
      "Iteration 518, loss = 0.05157415\n",
      "Iteration 519, loss = 0.05110164\n",
      "Iteration 520, loss = 0.05113055\n",
      "Iteration 521, loss = 0.05132482\n",
      "Iteration 522, loss = 0.05115520\n",
      "Iteration 523, loss = 0.05075906\n",
      "Iteration 524, loss = 0.05091803\n",
      "Iteration 525, loss = 0.05117736\n",
      "Iteration 526, loss = 0.05067466\n",
      "Iteration 527, loss = 0.05061943\n",
      "Iteration 528, loss = 0.05043971\n",
      "Iteration 529, loss = 0.05104065\n",
      "Iteration 530, loss = 0.05154655\n",
      "Iteration 531, loss = 0.05072101\n",
      "Iteration 532, loss = 0.05022229\n",
      "Iteration 533, loss = 0.05010862\n",
      "Iteration 534, loss = 0.05029126\n",
      "Iteration 535, loss = 0.05018032\n",
      "Iteration 536, loss = 0.04985944\n",
      "Iteration 537, loss = 0.04987702\n",
      "Iteration 538, loss = 0.04997935\n",
      "Iteration 539, loss = 0.04990716\n",
      "Iteration 540, loss = 0.04960507\n",
      "Iteration 541, loss = 0.04995284\n",
      "Iteration 542, loss = 0.04965483\n",
      "Iteration 543, loss = 0.04953643\n",
      "Iteration 544, loss = 0.04982609\n",
      "Iteration 545, loss = 0.04935436\n",
      "Iteration 546, loss = 0.04938681\n",
      "Iteration 547, loss = 0.04912813\n",
      "Iteration 548, loss = 0.04914732\n",
      "Iteration 549, loss = 0.05034169\n",
      "Iteration 550, loss = 0.04899743\n",
      "Iteration 551, loss = 0.04910168\n",
      "Iteration 552, loss = 0.04886688\n",
      "Iteration 553, loss = 0.04879313\n",
      "Iteration 554, loss = 0.04871356\n",
      "Iteration 555, loss = 0.04874799\n",
      "Iteration 556, loss = 0.04858402\n",
      "Iteration 557, loss = 0.04841491\n",
      "Iteration 558, loss = 0.04840266\n",
      "Iteration 559, loss = 0.04844995\n",
      "Iteration 560, loss = 0.04815107\n",
      "Iteration 561, loss = 0.04854750\n",
      "Iteration 562, loss = 0.04818570\n",
      "Iteration 563, loss = 0.04817617\n",
      "Iteration 564, loss = 0.04801344\n",
      "Iteration 565, loss = 0.04842158\n",
      "Iteration 566, loss = 0.04825713\n",
      "Iteration 567, loss = 0.04771826\n",
      "Iteration 568, loss = 0.04817604\n",
      "Iteration 569, loss = 0.04873296\n",
      "Iteration 570, loss = 0.04763920\n",
      "Iteration 571, loss = 0.04756114\n",
      "Iteration 572, loss = 0.04771603\n",
      "Iteration 573, loss = 0.04772317\n",
      "Iteration 574, loss = 0.04794171\n",
      "Iteration 575, loss = 0.04733684\n",
      "Iteration 576, loss = 0.04711892\n",
      "Iteration 577, loss = 0.04726260\n",
      "Iteration 578, loss = 0.04705526\n",
      "Iteration 579, loss = 0.04718991\n",
      "Iteration 580, loss = 0.04762457\n",
      "Iteration 581, loss = 0.04691113\n",
      "Iteration 582, loss = 0.04680169\n",
      "Iteration 583, loss = 0.04668821\n",
      "Iteration 584, loss = 0.04669515\n",
      "Iteration 585, loss = 0.04657190\n",
      "Iteration 586, loss = 0.04655101\n",
      "Iteration 587, loss = 0.04663358\n",
      "Iteration 588, loss = 0.04671213\n",
      "Iteration 589, loss = 0.04668640\n",
      "Iteration 590, loss = 0.04682084\n",
      "Iteration 591, loss = 0.04622115\n",
      "Iteration 592, loss = 0.04635873\n",
      "Iteration 593, loss = 0.04612563\n",
      "Iteration 594, loss = 0.04644809\n",
      "Iteration 595, loss = 0.04614180\n",
      "Iteration 596, loss = 0.04597991\n",
      "Iteration 597, loss = 0.04590427\n",
      "Iteration 598, loss = 0.04576607\n",
      "Iteration 599, loss = 0.04591509\n",
      "Iteration 600, loss = 0.04578292\n",
      "Iteration 601, loss = 0.04562862\n",
      "Iteration 602, loss = 0.04564272\n",
      "Iteration 603, loss = 0.04745058\n",
      "Iteration 604, loss = 0.04543327\n",
      "Iteration 605, loss = 0.04563296\n",
      "Iteration 606, loss = 0.04538704\n",
      "Iteration 607, loss = 0.04571918\n",
      "Iteration 608, loss = 0.04527540\n",
      "Iteration 609, loss = 0.04528381\n",
      "Iteration 610, loss = 0.04529604\n",
      "Iteration 611, loss = 0.04503800\n",
      "Iteration 612, loss = 0.04516144\n",
      "Iteration 613, loss = 0.04558120\n",
      "Iteration 614, loss = 0.04495774\n",
      "Iteration 615, loss = 0.04583374\n",
      "Iteration 616, loss = 0.04502317\n",
      "Iteration 617, loss = 0.04468631\n",
      "Iteration 618, loss = 0.04470039\n",
      "Iteration 619, loss = 0.04460232\n",
      "Iteration 620, loss = 0.04457957\n",
      "Iteration 621, loss = 0.04448314\n",
      "Iteration 622, loss = 0.04458131\n",
      "Iteration 623, loss = 0.04443082\n",
      "Iteration 624, loss = 0.04448036\n",
      "Iteration 625, loss = 0.04418182\n",
      "Iteration 626, loss = 0.04416046\n",
      "Iteration 627, loss = 0.04422678\n",
      "Iteration 628, loss = 0.04462935\n",
      "Iteration 629, loss = 0.04429388\n",
      "Iteration 630, loss = 0.04498831\n",
      "Iteration 631, loss = 0.04411346\n",
      "Iteration 632, loss = 0.04436870\n",
      "Iteration 633, loss = 0.04406346\n",
      "Iteration 634, loss = 0.04428144\n",
      "Iteration 635, loss = 0.04392583\n",
      "Iteration 636, loss = 0.04370344\n",
      "Iteration 637, loss = 0.04367060\n",
      "Iteration 638, loss = 0.04352437\n",
      "Iteration 639, loss = 0.04356908\n",
      "Iteration 640, loss = 0.04353728\n",
      "Iteration 641, loss = 0.04329949\n",
      "Iteration 642, loss = 0.04319533\n",
      "Iteration 643, loss = 0.04344084\n",
      "Iteration 644, loss = 0.04335619\n",
      "Iteration 645, loss = 0.04316286\n",
      "Iteration 646, loss = 0.04317669\n",
      "Iteration 647, loss = 0.04323473\n",
      "Iteration 648, loss = 0.04380009\n",
      "Iteration 649, loss = 0.04292558\n",
      "Iteration 650, loss = 0.04319149\n",
      "Iteration 651, loss = 0.04282884\n",
      "Iteration 652, loss = 0.04274795\n",
      "Iteration 653, loss = 0.04298322\n",
      "Iteration 654, loss = 0.04272739\n",
      "Iteration 655, loss = 0.04270318\n",
      "Iteration 656, loss = 0.04225544\n",
      "Iteration 657, loss = 0.04252412\n",
      "Iteration 658, loss = 0.04291211\n",
      "Iteration 659, loss = 0.04230539\n",
      "Iteration 660, loss = 0.04242702\n",
      "Iteration 661, loss = 0.04233782\n",
      "Iteration 662, loss = 0.04219831\n",
      "Iteration 663, loss = 0.04281566\n",
      "Iteration 664, loss = 0.04241975\n",
      "Iteration 665, loss = 0.04213148\n",
      "Iteration 666, loss = 0.04226420\n",
      "Iteration 667, loss = 0.04201844\n",
      "Iteration 668, loss = 0.04221259\n",
      "Iteration 669, loss = 0.04180684\n",
      "Iteration 670, loss = 0.04178465\n",
      "Iteration 671, loss = 0.04181884\n",
      "Iteration 672, loss = 0.04173592\n",
      "Iteration 673, loss = 0.04215081\n",
      "Iteration 674, loss = 0.04129695\n",
      "Iteration 675, loss = 0.04204120\n",
      "Iteration 676, loss = 0.04167198\n",
      "Iteration 677, loss = 0.04151841\n",
      "Iteration 678, loss = 0.04140949\n",
      "Iteration 679, loss = 0.04139388\n",
      "Iteration 680, loss = 0.04139975\n",
      "Iteration 681, loss = 0.04142314\n",
      "Iteration 682, loss = 0.04127241\n",
      "Iteration 683, loss = 0.04108104\n",
      "Iteration 684, loss = 0.04112246\n",
      "Iteration 685, loss = 0.04132895\n",
      "Iteration 686, loss = 0.04103703\n",
      "Iteration 687, loss = 0.04097461\n",
      "Iteration 688, loss = 0.04103631\n",
      "Iteration 689, loss = 0.04113589\n",
      "Iteration 690, loss = 0.04078035\n",
      "Iteration 691, loss = 0.04083778\n",
      "Iteration 692, loss = 0.04076076\n",
      "Iteration 693, loss = 0.04090930\n",
      "Iteration 694, loss = 0.04039428\n",
      "Iteration 695, loss = 0.04079282\n",
      "Iteration 696, loss = 0.04104349\n",
      "Iteration 697, loss = 0.04047971\n",
      "Iteration 698, loss = 0.04054165\n",
      "Iteration 699, loss = 0.04111143\n",
      "Iteration 700, loss = 0.04090662\n",
      "Iteration 701, loss = 0.04026814\n",
      "Iteration 702, loss = 0.04018672\n",
      "Iteration 703, loss = 0.04023509\n",
      "Iteration 704, loss = 0.04054390\n",
      "Iteration 705, loss = 0.04056009\n",
      "Iteration 706, loss = 0.04029953\n",
      "Iteration 707, loss = 0.04007633\n",
      "Iteration 708, loss = 0.04007622\n",
      "Iteration 709, loss = 0.04002817\n",
      "Iteration 710, loss = 0.04026517\n",
      "Iteration 711, loss = 0.03985867\n",
      "Iteration 712, loss = 0.03976597\n",
      "Iteration 713, loss = 0.03968655\n",
      "Iteration 714, loss = 0.03958983\n",
      "Iteration 715, loss = 0.03985200\n",
      "Iteration 716, loss = 0.03959835\n",
      "Iteration 717, loss = 0.03963609\n",
      "Iteration 718, loss = 0.03953738\n",
      "Iteration 719, loss = 0.03936329\n",
      "Iteration 720, loss = 0.03952634\n",
      "Iteration 721, loss = 0.03930133\n",
      "Iteration 722, loss = 0.03926629\n",
      "Iteration 723, loss = 0.03926428\n",
      "Iteration 724, loss = 0.03902594\n",
      "Iteration 725, loss = 0.03932845\n",
      "Iteration 726, loss = 0.03913543\n",
      "Iteration 727, loss = 0.03915894\n",
      "Iteration 728, loss = 0.03910117\n",
      "Iteration 729, loss = 0.03907093\n",
      "Iteration 730, loss = 0.03926531\n",
      "Iteration 731, loss = 0.03928372\n",
      "Iteration 732, loss = 0.03903493\n",
      "Iteration 733, loss = 0.03889385\n",
      "Iteration 734, loss = 0.03875790\n",
      "Iteration 735, loss = 0.03879526\n",
      "Iteration 736, loss = 0.03866702\n",
      "Iteration 737, loss = 0.03858441\n",
      "Iteration 738, loss = 0.03871296\n",
      "Iteration 739, loss = 0.03883934\n",
      "Iteration 740, loss = 0.03883259\n",
      "Iteration 741, loss = 0.03846754\n",
      "Iteration 742, loss = 0.03905350\n",
      "Iteration 743, loss = 0.03842071\n",
      "Iteration 744, loss = 0.03844166\n",
      "Iteration 745, loss = 0.03827436\n",
      "Iteration 746, loss = 0.03823539\n",
      "Iteration 747, loss = 0.03855955\n",
      "Iteration 748, loss = 0.03828922\n",
      "Iteration 749, loss = 0.03810857\n",
      "Iteration 750, loss = 0.03852812\n",
      "Iteration 751, loss = 0.03818822\n",
      "Iteration 752, loss = 0.03810567\n",
      "Iteration 753, loss = 0.03830034\n",
      "Iteration 754, loss = 0.03801172\n",
      "Iteration 755, loss = 0.03799971\n",
      "Iteration 756, loss = 0.03809320\n",
      "Iteration 757, loss = 0.03779054\n",
      "Iteration 758, loss = 0.03805799\n",
      "Iteration 759, loss = 0.03771047\n",
      "Iteration 760, loss = 0.03748921\n",
      "Iteration 761, loss = 0.03767193\n",
      "Iteration 762, loss = 0.03755059\n",
      "Iteration 763, loss = 0.03771523\n",
      "Iteration 764, loss = 0.03763258\n",
      "Iteration 765, loss = 0.03752029\n",
      "Iteration 766, loss = 0.03746539\n",
      "Iteration 767, loss = 0.03744435\n"
     ]
    },
    {
     "name": "stdout",
     "output_type": "stream",
     "text": [
      "Iteration 768, loss = 0.03736925\n",
      "Iteration 769, loss = 0.03779965\n",
      "Iteration 770, loss = 0.03748793\n",
      "Iteration 771, loss = 0.03724614\n",
      "Iteration 772, loss = 0.03770356\n",
      "Iteration 773, loss = 0.03811854\n",
      "Iteration 774, loss = 0.03714962\n",
      "Iteration 775, loss = 0.03711215\n",
      "Iteration 776, loss = 0.03725584\n",
      "Iteration 777, loss = 0.03697163\n",
      "Iteration 778, loss = 0.03688586\n",
      "Iteration 779, loss = 0.03703011\n",
      "Iteration 780, loss = 0.03698682\n",
      "Iteration 781, loss = 0.03684972\n",
      "Iteration 782, loss = 0.03684475\n",
      "Iteration 783, loss = 0.03661561\n",
      "Iteration 784, loss = 0.03678237\n",
      "Iteration 785, loss = 0.03676687\n",
      "Iteration 786, loss = 0.03657977\n",
      "Iteration 787, loss = 0.03655164\n",
      "Iteration 788, loss = 0.03645449\n",
      "Iteration 789, loss = 0.03687668\n",
      "Iteration 790, loss = 0.03629573\n",
      "Iteration 791, loss = 0.03631722\n",
      "Iteration 792, loss = 0.03652075\n",
      "Iteration 793, loss = 0.03646171\n",
      "Iteration 794, loss = 0.03643435\n",
      "Iteration 795, loss = 0.03674211\n",
      "Iteration 796, loss = 0.03687515\n",
      "Iteration 797, loss = 0.03597059\n",
      "Iteration 798, loss = 0.03643634\n",
      "Iteration 799, loss = 0.03606977\n",
      "Iteration 800, loss = 0.03598803\n",
      "Iteration 801, loss = 0.03623497\n",
      "Iteration 802, loss = 0.03644557\n",
      "Iteration 803, loss = 0.03609288\n",
      "Iteration 804, loss = 0.03585730\n",
      "Iteration 805, loss = 0.03582797\n",
      "Iteration 806, loss = 0.03570217\n",
      "Iteration 807, loss = 0.03649465\n",
      "Iteration 808, loss = 0.03597109\n",
      "Iteration 809, loss = 0.03657750\n",
      "Iteration 810, loss = 0.03566196\n",
      "Iteration 811, loss = 0.03564130\n",
      "Iteration 812, loss = 0.03575316\n",
      "Iteration 813, loss = 0.03590247\n",
      "Iteration 814, loss = 0.03576257\n",
      "Iteration 815, loss = 0.03584256\n",
      "Iteration 816, loss = 0.03564838\n",
      "Iteration 817, loss = 0.03525665\n",
      "Iteration 818, loss = 0.03569422\n",
      "Iteration 819, loss = 0.03521405\n",
      "Iteration 820, loss = 0.03537974\n",
      "Iteration 821, loss = 0.03531947\n",
      "Iteration 822, loss = 0.03510540\n",
      "Iteration 823, loss = 0.03503564\n",
      "Iteration 824, loss = 0.03510102\n",
      "Iteration 825, loss = 0.03504448\n",
      "Iteration 826, loss = 0.03539705\n",
      "Iteration 827, loss = 0.03544053\n",
      "Iteration 828, loss = 0.03505557\n",
      "Iteration 829, loss = 0.03479018\n",
      "Iteration 830, loss = 0.03492678\n",
      "Iteration 831, loss = 0.03490109\n",
      "Iteration 832, loss = 0.03469320\n",
      "Iteration 833, loss = 0.03473913\n",
      "Iteration 834, loss = 0.03531769\n",
      "Iteration 835, loss = 0.03459256\n",
      "Iteration 836, loss = 0.03486576\n",
      "Iteration 837, loss = 0.03468016\n",
      "Iteration 838, loss = 0.03460442\n",
      "Iteration 839, loss = 0.03459456\n",
      "Iteration 840, loss = 0.03459014\n",
      "Iteration 841, loss = 0.03455861\n",
      "Iteration 842, loss = 0.03430117\n",
      "Iteration 843, loss = 0.03445825\n",
      "Iteration 844, loss = 0.03422397\n",
      "Iteration 845, loss = 0.03434923\n",
      "Iteration 846, loss = 0.03410163\n",
      "Iteration 847, loss = 0.03459752\n",
      "Iteration 848, loss = 0.03428960\n",
      "Iteration 849, loss = 0.03399958\n",
      "Iteration 850, loss = 0.03402976\n",
      "Iteration 851, loss = 0.03438943\n",
      "Iteration 852, loss = 0.03422365\n",
      "Iteration 853, loss = 0.03403892\n",
      "Iteration 854, loss = 0.03399930\n",
      "Iteration 855, loss = 0.03398152\n",
      "Iteration 856, loss = 0.03391885\n",
      "Iteration 857, loss = 0.03357174\n",
      "Iteration 858, loss = 0.03398564\n",
      "Iteration 859, loss = 0.03362888\n",
      "Iteration 860, loss = 0.03394362\n",
      "Iteration 861, loss = 0.03354947\n",
      "Iteration 862, loss = 0.03364845\n",
      "Iteration 863, loss = 0.03350008\n",
      "Iteration 864, loss = 0.03363846\n",
      "Iteration 865, loss = 0.03348796\n",
      "Iteration 866, loss = 0.03372568\n",
      "Iteration 867, loss = 0.03359614\n",
      "Iteration 868, loss = 0.03351489\n",
      "Training loss did not improve more than tol=0.000100 for 10 consecutive epochs. Stopping.\n"
     ]
    },
    {
     "data": {
      "text/plain": [
       "MLPClassifier(activation='relu', alpha=1e-05, batch_size=32, beta_1=0.9,\n",
       "              beta_2=0.999, early_stopping=False, epsilon=1e-08,\n",
       "              hidden_layer_sizes=(10,), learning_rate='constant',\n",
       "              learning_rate_init=0.001, max_iter=1000, momentum=0.9,\n",
       "              n_iter_no_change=10, nesterovs_momentum=True, power_t=0.5,\n",
       "              random_state=1, shuffle=True, solver='adam', tol=0.0001,\n",
       "              validation_fraction=0.1, verbose=True, warm_start=False)"
      ]
     },
     "execution_count": 26,
     "metadata": {},
     "output_type": "execute_result"
    }
   ],
   "source": [
    "clf.fit(x_train_nn, y_train)"
   ]
  },
  {
   "cell_type": "code",
   "execution_count": 28,
   "metadata": {},
   "outputs": [
    {
     "name": "stdout",
     "output_type": "stream",
     "text": [
      "[0. 0. 0. 0. 0. 0. 0. 0. 0. 0. 0. 0. 0. 0. 0. 0. 0. 0. 0. 0. 0. 0. 0. 0.\n",
      " 0. 0. 0. 0. 0. 0. 0. 0. 0. 0. 0. 0. 0. 0. 0. 0. 0. 0. 0. 0. 0. 0. 0. 0.\n",
      " 0. 0. 0. 0. 0. 0. 0. 0. 0. 0. 0. 0. 0. 0. 0. 0. 0. 0. 0. 0. 0. 0. 0. 0.\n",
      " 0. 0. 0. 0. 0. 0. 0. 0. 0. 0. 0. 0. 0. 0. 0. 0. 0. 0. 0. 0. 0. 0. 0. 0.\n",
      " 0. 0. 0. 0. 0. 0. 0. 0. 0. 0. 0. 0. 0. 0. 0. 0. 0. 0. 0. 0. 0. 0. 1. 1.\n",
      " 1. 1. 1. 1. 1. 1. 1. 1. 1. 1. 1. 1. 1. 1. 1. 1. 0. 0. 0. 0. 0. 0. 0. 0.\n",
      " 0. 0. 0. 0. 0. 0. 0. 0. 0. 0. 0. 0. 0. 0. 0. 0. 0. 0. 0. 0. 0. 0. 0. 0.\n",
      " 0. 0.]\n"
     ]
    }
   ],
   "source": [
    "result = clf.predict(x_test_nn) \n",
    "print(result)"
   ]
  },
  {
   "cell_type": "code",
   "execution_count": 29,
   "metadata": {},
   "outputs": [
    {
     "name": "stdout",
     "output_type": "stream",
     "text": [
      "Score = 98.82%\n"
     ]
    }
   ],
   "source": [
    "print(f\"Score = {(result == y_test).sum() / len(result) * 100:.2f}%\")"
   ]
  },
  {
   "cell_type": "code",
   "execution_count": 30,
   "metadata": {},
   "outputs": [
    {
     "data": {
      "text/plain": [
       "array([[117],\n",
       "       [146]])"
      ]
     },
     "execution_count": 30,
     "metadata": {},
     "output_type": "execute_result"
    }
   ],
   "source": [
    "# Let us see what was incorrctly predicted\n",
    "numpy.argwhere(result != y_test)"
   ]
  },
  {
   "cell_type": "code",
   "execution_count": 31,
   "metadata": {},
   "outputs": [
    {
     "data": {
      "text/plain": [
       "<matplotlib.image.AxesImage at 0x2b28c2cc0>"
      ]
     },
     "execution_count": 31,
     "metadata": {},
     "output_type": "execute_result"
    },
    {
     "data": {
      "image/png": "[encoded data removed]",
      "text/plain": [
       "<Figure size 432x288 with 1 Axes>"
      ]
     },
     "metadata": {
      "needs_background": "light"
     },
     "output_type": "display_data"
    }
   ],
   "source": [
    "plt.imshow(x_test[146])"
   ]
  },
  {
   "cell_type": "code",
   "execution_count": null,
   "metadata": {},
   "outputs": [],
   "source": []
  }
 ],
 "metadata": {
  "kernelspec": {
   "display_name": "炼丹",
   "language": "python",
   "name": "ml"
  },
  "language_info": {
   "codemirror_mode": {
    "name": "ipython",
    "version": 3
   },
   "file_extension": ".py",
   "mimetype": "text/x-python",
   "name": "python",
   "nbconvert_exporter": "python",
   "pygments_lexer": "ipython3",
   "version": "3.6.9"
  }
 },
 "nbformat": 4,
 "nbformat_minor": 4
}
